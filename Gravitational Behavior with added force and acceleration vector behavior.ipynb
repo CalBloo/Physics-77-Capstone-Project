{
 "cells": [
  {
   "cell_type": "code",
   "execution_count": 1,
   "metadata": {},
   "outputs": [],
   "source": [
    "import numpy as np\n",
    "import matplotlib as plt\n",
    "%matplotlib inline"
   ]
  },
  {
   "cell_type": "code",
   "execution_count": 40,
   "metadata": {},
   "outputs": [],
   "source": [
    "def planet_1(m1,m2,msun,r2,rsun,theta2,thetasun):\n",
    "    def gravity_sun(msun,m1,r):\n",
    "        #https://physics.nist.gov/cgi-bin/cuu/Value?bg\n",
    "        G = 6.67430*(10**-11)\n",
    "        return(-G*msun*m1/(r**2))\n",
    "    def gravity_m2(m2,m1,r):\n",
    "        #https://physics.nist.gov/cgi-bin/cuu/Value?bg\n",
    "        G = 6.67430*(10**-11)\n",
    "        return(-G*m2*m1/(r**2))\n",
    "    def fx(m1,m2,msun,r2,rsun,thetasun,theta2):\n",
    "        gsun = gravity_sun(msun,m1,rsun)\n",
    "        gm2 = gravity_m2(m2,m1,r2)\n",
    "        return(np.cos(thetasun)*gsun + np.sin(theta2)*gm2)\n",
    "    def fy(m1,m2,msun,r2,rsun,thetasun,theta2):\n",
    "        gsun = gravity_sun(msun,m1,rsun)\n",
    "        gm2 = gravity_m2(m2,m1,r2)\n",
    "        return(np.sin(thetasun)*gsun + np.cos(theta2)*gm2)\n",
    "    def ax(m1,m2,msun,r2,rsun,thetasun,theta2):\n",
    "        return(fx(m1,m2,msun,r2,rsun,thetasun,theta2)/m1)\n",
    "    def ay(m1,m2,msun,r2,rsun,thetasun,theta2):\n",
    "        return(fy(m1,m2,msun,r2,rsun,thetasun,theta2)/m1)\n",
    "    return(gravity_sun(msun,m1,rsun),gravity_m2(m2,m1,r2),fx(m1,m2,msun,r2,rsun,thetasun,theta2),\n",
    "           fy(m1,m2,msun,r2,rsun,thetasun,theta2),ax(m1,m2,msun,r2,rsun,thetasun,theta2),\n",
    "          ay(m1,m2,msun,r2,rsun,thetasun,theta2))\n",
    "    "
   ]
  },
  {
   "cell_type": "code",
   "execution_count": 42,
   "metadata": {},
   "outputs": [],
   "source": [
    "def planet_2(m1,m2,msun,r1,rsun,theta2,thetasun):\n",
    "    def gravity_sun(msun,m1,r):\n",
    "        #https://physics.nist.gov/cgi-bin/cuu/Value?bg\n",
    "        G = 6.67430*(10**-11)\n",
    "        return(-G*msun*m1/(r**2))\n",
    "    def gravity_m1(m2,m1,r):\n",
    "        #https://physics.nist.gov/cgi-bin/cuu/Value?bg\n",
    "        G = 6.67430*(10**-11)\n",
    "        return(-G*m2*m1/(r**2))\n",
    "    def fx(m1,m2,msun,r1,rsun,thetasun,theta2):\n",
    "        gsun = gravity_sun(msun,m1,rsun)\n",
    "        gm2 = gravity_m1(m2,m1,r1)\n",
    "        return(np.cos(thetasun)*gsun + np.sin(theta2)*gm2)\n",
    "    def fy(m1,m2,msun,r1,rsun,thetasun,theta2):\n",
    "        gsun = gravity_sun(msun,m1,rsun)\n",
    "        gm2 = gravity_m1(m2,m1,r1)\n",
    "        return(np.sin(thetasun)*gsun + np.cos(theta2)*gm2)\n",
    "    def ax(m1,m2,msun,r2,rsun,thetasun,theta2):\n",
    "        return(fx(m1,m2,msun,r2,rsun,thetasun,theta2)/m2)\n",
    "    def ay(m1,m2,msun,r2,rsun,thetasun,theta2):\n",
    "        return(fy(m1,m2,msun,r2,rsun,thetasun,theta2)/m2)\n",
    "    return(gravity_sun(msun,m2,rsun),gravity_m1(m2,m1,r1),fx(m1,m2,msun,r1,rsun,thetasun,theta2),\n",
    "           fy(m1,m2,msun,r1,rsun,thetasun,theta2),ax(m1,m2,msun,r1,rsun,thetasun,theta2),\n",
    "          ay(m1,m2,msun,r1,rsun,thetasun,theta2))\n",
    "    "
   ]
  },
  {
   "cell_type": "code",
   "execution_count": 4,
   "metadata": {},
   "outputs": [],
   "source": [
    "#Establish masses\n",
    "#https://nssdc.gsfc.nasa.gov/planetary/factsheet/sunfact.html\n",
    "msun = 1988500*(10**24)\n",
    "m1 = 5.9724*(10**24)\n",
    "m2 = 8*(10**24)"
   ]
  },
  {
   "cell_type": "code",
   "execution_count": 11,
   "metadata": {},
   "outputs": [],
   "source": [
    "#Establish distances\n",
    "sun_pos = [0,0]\n",
    "p1_pos = [1000000,0]\n",
    "p2_pos = [0,2000000]\n",
    "\n",
    "x12 = p1_pos[0]-p2_pos[0]\n",
    "y12 = p1_pos[1]-p2_pos[1]\n",
    "rsun_1 = np.sqrt((p1_pos[0]**2) + (p1_pos[1]**2))\n",
    "rsun_2 = np.sqrt((p2_pos[0]**2) + (p2_pos[1]**2))\n",
    "r12 = np.sqrt((x12**2)+(y12**2)) "
   ]
  },
  {
   "cell_type": "code",
   "execution_count": 14,
   "metadata": {},
   "outputs": [],
   "source": [
    "#Establish angles\n",
    "theta2 = np.arctan(x12/y12)\n",
    "if p1_pos[0] == 0:\n",
    "    thetasun_1 = np.pi/2\n",
    "else:\n",
    "    thetasun_1 = np.arctan(p1_pos[1]/p1_pos[0])\n",
    "    \n",
    "if p2_pos[0] == 0:\n",
    "    thetasun_2 = np.pi/2\n",
    "else:\n",
    "    thetasun_2 = np.arctan(p2_pos[1]/p2_pos[0])"
   ]
  },
  {
   "cell_type": "code",
   "execution_count": 43,
   "metadata": {},
   "outputs": [],
   "source": [
    "sun_on_p1, p2_on_p1, net_f_x_1, net_f_y_1, ax_1, ay_1 = planet_1(m1,m2,msun,r12,rsun_1,theta2,thetasun_1) \n",
    "sun_on_p2, p1_on_p2, net_f_x_2, net_f_y_2, ax_2, ay_2 = planet_2(m1,m2,msun,r12,rsun_2,theta2,thetasun_2)"
   ]
  },
  {
   "cell_type": "code",
   "execution_count": null,
   "metadata": {},
   "outputs": [],
   "source": []
  }
 ],
 "metadata": {
  "kernelspec": {
   "display_name": "Python 3",
   "language": "python",
   "name": "python3"
  },
  "language_info": {
   "codemirror_mode": {
    "name": "ipython",
    "version": 3
   },
   "file_extension": ".py",
   "mimetype": "text/x-python",
   "name": "python",
   "nbconvert_exporter": "python",
   "pygments_lexer": "ipython3",
   "version": "3.6.9"
  }
 },
 "nbformat": 4,
 "nbformat_minor": 4
}
