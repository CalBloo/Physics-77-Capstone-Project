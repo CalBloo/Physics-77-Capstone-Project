{
 "cells": [
  {
   "cell_type": "code",
   "execution_count": 19,
   "metadata": {},
   "outputs": [],
   "source": [
    "import numpy as np\n",
    "import matplotlib.pyplot as plt\n",
    "%matplotlib inline"
   ]
  },
  {
   "cell_type": "code",
   "execution_count": 5,
   "metadata": {},
   "outputs": [],
   "source": [
    "# This simulation relies on the assumption that Conservation of Angular Momentum requires the orbiting bodies to lie in \n",
    "# the same plane. Therefore, the analysis can be conducted in 2-dimensional space.\n",
    "\n",
    "def planet_1(m1,m2,msun,r2,rsun,theta2,thetasun):\n",
    "    \n",
    "    def gravity_sun(msun,m1,r):\n",
    "        #https://physics.nist.gov/cgi-bin/cuu/Value?bg\n",
    "        G = 6.67430*(10**-11)\n",
    "        return(-G*msun*m1/(r**2))\n",
    "    \n",
    "    def gravity_m2(m2,m1,r):\n",
    "        #https://physics.nist.gov/cgi-bin/cuu/Value?bg\n",
    "        G = 6.67430*(10**-11)\n",
    "        return(-G*m2*m1/(r**2))\n",
    "    \n",
    "    def fx(m1,m2,msun,r2,rsun,thetasun,theta2): # sum of forces in x direction\n",
    "        gsun = gravity_sun(msun,m1,rsun)\n",
    "        gm2 = gravity_m2(m2,m1,r2)\n",
    "        return(np.cos(thetasun)*gsun + np.sin(theta2)*gm2)\n",
    "    \n",
    "    def fy(m1,m2,msun,r2,rsun,thetasun,theta2): # sum of forces in y direction\n",
    "        gsun = gravity_sun(msun,m1,rsun)\n",
    "        gm2 = gravity_m2(m2,m1,r2)\n",
    "        return(np.sin(thetasun)*gsun + np.cos(theta2)*gm2)\n",
    "    \n",
    "    def ax(m1,m2,msun,r2,rsun,thetasun,theta2): # sum of acceleration in x direction\n",
    "        return(fx(m1,m2,msun,r2,rsun,thetasun,theta2)/m1)\n",
    "     \n",
    "    def ay(m1,m2,msun,r2,rsun,thetasun,theta2): # sum of acceleration in the y direction\n",
    "        return(fy(m1,m2,msun,r2,rsun,thetasun,theta2)/m1)\n",
    "    \n",
    "    return(gravity_sun(msun,m1,rsun), gravity_m2(m2,m1,r2), fx(m1,m2,msun,r2,rsun,thetasun,theta2),\n",
    "           fy(m1,m2,msun,r2,rsun,thetasun,theta2),ax(m1,m2,msun,r2,rsun,thetasun,theta2),\n",
    "           ay(m1,m2,msun,r2,rsun,thetasun,theta2))\n",
    "    "
   ]
  },
  {
   "cell_type": "code",
   "execution_count": 6,
   "metadata": {},
   "outputs": [],
   "source": [
    "def planet_2(m1,m2,msun,r1,rsun,theta2,thetasun):\n",
    "    \n",
    "    def gravity_sun(msun,m1,r):\n",
    "        #https://physics.nist.gov/cgi-bin/cuu/Value?bg\n",
    "        G = 6.67430*(10**-11)\n",
    "        return(-G*msun*m1/(r**2))\n",
    "    \n",
    "    def gravity_m1(m2,m1,r):\n",
    "        #https://physics.nist.gov/cgi-bin/cuu/Value?bg\n",
    "        G = 6.67430*(10**-11)\n",
    "        return(-G*m2*m1/(r**2))\n",
    "    \n",
    "    def fx(m1,m2,msun,r1,rsun,thetasun,theta2):\n",
    "        gsun = gravity_sun(msun,m1,rsun)\n",
    "        gm2 = gravity_m1(m2,m1,r1)\n",
    "        return(np.cos(thetasun)*gsun + np.sin(theta2)*gm2)\n",
    "    \n",
    "    def fy(m1,m2,msun,r1,rsun,thetasun,theta2):\n",
    "        gsun = gravity_sun(msun,m1,rsun)\n",
    "        gm2 = gravity_m1(m2,m1,r1)\n",
    "        return(np.sin(thetasun)*gsun + np.cos(theta2)*gm2)\n",
    "    \n",
    "    def ax(m1,m2,msun,r2,rsun,thetasun,theta2):\n",
    "        return(fx(m1,m2,msun,r2,rsun,thetasun,theta2)/m2)\n",
    "    \n",
    "    def ay(m1,m2,msun,r2,rsun,thetasun,theta2):\n",
    "        return(fy(m1,m2,msun,r2,rsun,thetasun,theta2)/m2)\n",
    "    \n",
    "    return(gravity_sun(msun,m2,rsun),gravity_m1(m2,m1,r1),fx(m1,m2,msun,r1,rsun,thetasun,theta2),\n",
    "           fy(m1,m2,msun,r1,rsun,thetasun,theta2),ax(m1,m2,msun,r1,rsun,thetasun,theta2),\n",
    "          ay(m1,m2,msun,r1,rsun,thetasun,theta2))\n",
    "    "
   ]
  },
  {
   "cell_type": "code",
   "execution_count": 7,
   "metadata": {},
   "outputs": [],
   "source": [
    "#Establish masses\n",
    "#https://nssdc.gsfc.nasa.gov/planetary/factsheet/sunfact.html\n",
    "\n",
    "msun = 1988500*(10**24)\n",
    "m1 = 5.9724*(10**24) # mass of Earth\n",
    "m2 = 4.87*(10**24) # mass of Venus"
   ]
  },
  {
   "cell_type": "code",
   "execution_count": 14,
   "metadata": {},
   "outputs": [],
   "source": [
    "#Establish distances\n",
    "\n",
    "sun_pos = [0,0]\n",
    "p1_pos = [1000000,0]\n",
    "p2_pos = [0,2000000]\n",
    "\n",
    "x12 = p1_pos[0]-p2_pos[0]\n",
    "y12 = p1_pos[1]-p2_pos[1]\n",
    "rsun_1 = np.sqrt((p1_pos[0]**2) + (p1_pos[1]**2))\n",
    "rsun_2 = np.sqrt((p2_pos[0]**2) + (p2_pos[1]**2))\n",
    "r12 = np.sqrt((x12**2)+(y12**2)) "
   ]
  },
  {
   "cell_type": "code",
   "execution_count": 9,
   "metadata": {},
   "outputs": [],
   "source": [
    "#Establish angles\n",
    "theta2 = np.arctan(x12/y12)\n",
    "if p1_pos[0] == 0:\n",
    "    thetasun_1 = np.pi/2\n",
    "else:\n",
    "    thetasun_1 = np.arctan(p1_pos[1]/p1_pos[0])\n",
    "    \n",
    "if p2_pos[0] == 0:\n",
    "    thetasun_2 = np.pi/2\n",
    "else:\n",
    "    thetasun_2 = np.arctan(p2_pos[1]/p2_pos[0])"
   ]
  },
  {
   "cell_type": "code",
   "execution_count": 10,
   "metadata": {},
   "outputs": [],
   "source": [
    "sun_on_p1, p2_on_p1, net_f_x_1, net_f_y_1, ax_1, ay_1 = planet_1(m1,m2,msun,r12,rsun_1,theta2,thetasun_1) \n",
    "\n",
    "sun_on_p2, p1_on_p2, net_f_x_2, net_f_y_2, ax_2, ay_2 = planet_2(m1,m2,msun,r12,rsun_2,theta2,thetasun_2)"
   ]
  },
  {
   "cell_type": "code",
   "execution_count": null,
   "metadata": {},
   "outputs": [],
   "source": []
  },
  {
   "cell_type": "code",
   "execution_count": 139,
   "metadata": {},
   "outputs": [
    {
     "data": {
      "text/plain": [
       "<Figure size 432x288 with 0 Axes>"
      ]
     },
     "metadata": {},
     "output_type": "display_data"
    },
    {
     "data": {
      "image/png": "[encoded data removed]",
      "text/plain": [
       "<Figure size 432x288 with 1 Axes>"
      ]
     },
     "metadata": {
      "needs_background": "light"
     },
     "output_type": "display_data"
    },
    {
     "ename": "TypeError",
     "evalue": "animate() takes 3 positional arguments but 4 were given",
     "output_type": "error",
     "traceback": [
      "\u001b[1;31m---------------------------------------------------------------------------\u001b[0m",
      "\u001b[1;31mTypeError\u001b[0m                                 Traceback (most recent call last)",
      "\u001b[1;32m<ipython-input-139-9a071a5d1c4b>\u001b[0m in \u001b[0;36m<module>\u001b[1;34m\u001b[0m\n\u001b[0;32m     47\u001b[0m \u001b[0mani2\u001b[0m \u001b[1;33m=\u001b[0m \u001b[0manimation\u001b[0m\u001b[1;33m.\u001b[0m\u001b[0mFuncAnimation\u001b[0m\u001b[1;33m(\u001b[0m\u001b[0mfig\u001b[0m\u001b[1;33m,\u001b[0m \u001b[0manimate\u001b[0m\u001b[1;33m,\u001b[0m \u001b[0mframes\u001b[0m \u001b[1;33m=\u001b[0m \u001b[1;32mNone\u001b[0m\u001b[1;33m,\u001b[0m \u001b[0minit_func\u001b[0m \u001b[1;33m=\u001b[0m \u001b[0minit1\u001b[0m\u001b[1;33m,\u001b[0m \u001b[0mfargs\u001b[0m \u001b[1;33m=\u001b[0m \u001b[1;33m[\u001b[0m\u001b[0ma_m2\u001b[0m\u001b[1;33m,\u001b[0m \u001b[0me_m2\u001b[0m\u001b[1;33m,\u001b[0m \u001b[0mtheta_list\u001b[0m\u001b[1;33m]\u001b[0m\u001b[1;33m,\u001b[0m \u001b[0minterval\u001b[0m \u001b[1;33m=\u001b[0m \u001b[1;36m100\u001b[0m\u001b[1;33m,\u001b[0m \u001b[0mblit\u001b[0m \u001b[1;33m=\u001b[0m \u001b[1;32mFalse\u001b[0m\u001b[1;33m)\u001b[0m\u001b[1;33m\u001b[0m\u001b[1;33m\u001b[0m\u001b[0m\n\u001b[0;32m     48\u001b[0m \u001b[1;33m\u001b[0m\u001b[0m\n\u001b[1;32m---> 49\u001b[1;33m \u001b[0mHTML\u001b[0m\u001b[1;33m(\u001b[0m\u001b[0mani1\u001b[0m\u001b[1;33m.\u001b[0m\u001b[0mto_jshtml\u001b[0m\u001b[1;33m(\u001b[0m\u001b[1;33m)\u001b[0m\u001b[1;33m)\u001b[0m\u001b[1;33m\u001b[0m\u001b[1;33m\u001b[0m\u001b[0m\n\u001b[0m\u001b[0;32m     50\u001b[0m \u001b[0mHTML\u001b[0m\u001b[1;33m(\u001b[0m\u001b[0mani2\u001b[0m\u001b[1;33m.\u001b[0m\u001b[0mto_jshtml\u001b[0m\u001b[1;33m(\u001b[0m\u001b[1;33m)\u001b[0m\u001b[1;33m)\u001b[0m\u001b[1;33m\u001b[0m\u001b[1;33m\u001b[0m\u001b[0m\n\u001b[0;32m     51\u001b[0m \u001b[1;33m\u001b[0m\u001b[0m\n",
      "\u001b[1;32mC:\\2020 Erica Files\\Physics 77\\Miniconda\\lib\\site-packages\\matplotlib\\animation.py\u001b[0m in \u001b[0;36mto_jshtml\u001b[1;34m(self, fps, embed_frames, default_mode)\u001b[0m\n\u001b[0;32m   1378\u001b[0m                                     \u001b[0membed_frames\u001b[0m\u001b[1;33m=\u001b[0m\u001b[0membed_frames\u001b[0m\u001b[1;33m,\u001b[0m\u001b[1;33m\u001b[0m\u001b[1;33m\u001b[0m\u001b[0m\n\u001b[0;32m   1379\u001b[0m                                     default_mode=default_mode)\n\u001b[1;32m-> 1380\u001b[1;33m                 \u001b[0mself\u001b[0m\u001b[1;33m.\u001b[0m\u001b[0msave\u001b[0m\u001b[1;33m(\u001b[0m\u001b[0mstr\u001b[0m\u001b[1;33m(\u001b[0m\u001b[0mpath\u001b[0m\u001b[1;33m)\u001b[0m\u001b[1;33m,\u001b[0m \u001b[0mwriter\u001b[0m\u001b[1;33m=\u001b[0m\u001b[0mwriter\u001b[0m\u001b[1;33m)\u001b[0m\u001b[1;33m\u001b[0m\u001b[1;33m\u001b[0m\u001b[0m\n\u001b[0m\u001b[0;32m   1381\u001b[0m                 \u001b[0mself\u001b[0m\u001b[1;33m.\u001b[0m\u001b[0m_html_representation\u001b[0m \u001b[1;33m=\u001b[0m \u001b[0mpath\u001b[0m\u001b[1;33m.\u001b[0m\u001b[0mread_text\u001b[0m\u001b[1;33m(\u001b[0m\u001b[1;33m)\u001b[0m\u001b[1;33m\u001b[0m\u001b[1;33m\u001b[0m\u001b[0m\n\u001b[0;32m   1382\u001b[0m \u001b[1;33m\u001b[0m\u001b[0m\n",
      "\u001b[1;32mC:\\2020 Erica Files\\Physics 77\\Miniconda\\lib\\site-packages\\matplotlib\\animation.py\u001b[0m in \u001b[0;36msave\u001b[1;34m(self, filename, writer, fps, dpi, codec, bitrate, extra_args, metadata, extra_anim, savefig_kwargs, progress_callback)\u001b[0m\n\u001b[0;32m   1150\u001b[0m                     \u001b[1;32mfor\u001b[0m \u001b[0manim\u001b[0m\u001b[1;33m,\u001b[0m \u001b[0md\u001b[0m \u001b[1;32min\u001b[0m \u001b[0mzip\u001b[0m\u001b[1;33m(\u001b[0m\u001b[0mall_anim\u001b[0m\u001b[1;33m,\u001b[0m \u001b[0mdata\u001b[0m\u001b[1;33m)\u001b[0m\u001b[1;33m:\u001b[0m\u001b[1;33m\u001b[0m\u001b[1;33m\u001b[0m\u001b[0m\n\u001b[0;32m   1151\u001b[0m                         \u001b[1;31m# TODO: See if turning off blit is really necessary\u001b[0m\u001b[1;33m\u001b[0m\u001b[1;33m\u001b[0m\u001b[1;33m\u001b[0m\u001b[0m\n\u001b[1;32m-> 1152\u001b[1;33m                         \u001b[0manim\u001b[0m\u001b[1;33m.\u001b[0m\u001b[0m_draw_next_frame\u001b[0m\u001b[1;33m(\u001b[0m\u001b[0md\u001b[0m\u001b[1;33m,\u001b[0m \u001b[0mblit\u001b[0m\u001b[1;33m=\u001b[0m\u001b[1;32mFalse\u001b[0m\u001b[1;33m)\u001b[0m\u001b[1;33m\u001b[0m\u001b[1;33m\u001b[0m\u001b[0m\n\u001b[0m\u001b[0;32m   1153\u001b[0m                         \u001b[1;32mif\u001b[0m \u001b[0mprogress_callback\u001b[0m \u001b[1;32mis\u001b[0m \u001b[1;32mnot\u001b[0m \u001b[1;32mNone\u001b[0m\u001b[1;33m:\u001b[0m\u001b[1;33m\u001b[0m\u001b[1;33m\u001b[0m\u001b[0m\n\u001b[0;32m   1154\u001b[0m                             \u001b[0mprogress_callback\u001b[0m\u001b[1;33m(\u001b[0m\u001b[0mframe_number\u001b[0m\u001b[1;33m,\u001b[0m \u001b[0mtotal_frames\u001b[0m\u001b[1;33m)\u001b[0m\u001b[1;33m\u001b[0m\u001b[1;33m\u001b[0m\u001b[0m\n",
      "\u001b[1;32mC:\\2020 Erica Files\\Physics 77\\Miniconda\\lib\\site-packages\\matplotlib\\animation.py\u001b[0m in \u001b[0;36m_draw_next_frame\u001b[1;34m(self, framedata, blit)\u001b[0m\n\u001b[0;32m   1190\u001b[0m         \u001b[1;31m# post- draw, as well as the drawing of the frame itself.\u001b[0m\u001b[1;33m\u001b[0m\u001b[1;33m\u001b[0m\u001b[1;33m\u001b[0m\u001b[0m\n\u001b[0;32m   1191\u001b[0m         \u001b[0mself\u001b[0m\u001b[1;33m.\u001b[0m\u001b[0m_pre_draw\u001b[0m\u001b[1;33m(\u001b[0m\u001b[0mframedata\u001b[0m\u001b[1;33m,\u001b[0m \u001b[0mblit\u001b[0m\u001b[1;33m)\u001b[0m\u001b[1;33m\u001b[0m\u001b[1;33m\u001b[0m\u001b[0m\n\u001b[1;32m-> 1192\u001b[1;33m         \u001b[0mself\u001b[0m\u001b[1;33m.\u001b[0m\u001b[0m_draw_frame\u001b[0m\u001b[1;33m(\u001b[0m\u001b[0mframedata\u001b[0m\u001b[1;33m)\u001b[0m\u001b[1;33m\u001b[0m\u001b[1;33m\u001b[0m\u001b[0m\n\u001b[0m\u001b[0;32m   1193\u001b[0m         \u001b[0mself\u001b[0m\u001b[1;33m.\u001b[0m\u001b[0m_post_draw\u001b[0m\u001b[1;33m(\u001b[0m\u001b[0mframedata\u001b[0m\u001b[1;33m,\u001b[0m \u001b[0mblit\u001b[0m\u001b[1;33m)\u001b[0m\u001b[1;33m\u001b[0m\u001b[1;33m\u001b[0m\u001b[0m\n\u001b[0;32m   1194\u001b[0m \u001b[1;33m\u001b[0m\u001b[0m\n",
      "\u001b[1;32mC:\\2020 Erica Files\\Physics 77\\Miniconda\\lib\\site-packages\\matplotlib\\animation.py\u001b[0m in \u001b[0;36m_draw_frame\u001b[1;34m(self, framedata)\u001b[0m\n\u001b[0;32m   1753\u001b[0m         \u001b[1;31m# Call the func with framedata and args. If blitting is desired,\u001b[0m\u001b[1;33m\u001b[0m\u001b[1;33m\u001b[0m\u001b[1;33m\u001b[0m\u001b[0m\n\u001b[0;32m   1754\u001b[0m         \u001b[1;31m# func needs to return a sequence of any artists that were modified.\u001b[0m\u001b[1;33m\u001b[0m\u001b[1;33m\u001b[0m\u001b[1;33m\u001b[0m\u001b[0m\n\u001b[1;32m-> 1755\u001b[1;33m         \u001b[0mself\u001b[0m\u001b[1;33m.\u001b[0m\u001b[0m_drawn_artists\u001b[0m \u001b[1;33m=\u001b[0m \u001b[0mself\u001b[0m\u001b[1;33m.\u001b[0m\u001b[0m_func\u001b[0m\u001b[1;33m(\u001b[0m\u001b[0mframedata\u001b[0m\u001b[1;33m,\u001b[0m \u001b[1;33m*\u001b[0m\u001b[0mself\u001b[0m\u001b[1;33m.\u001b[0m\u001b[0m_args\u001b[0m\u001b[1;33m)\u001b[0m\u001b[1;33m\u001b[0m\u001b[1;33m\u001b[0m\u001b[0m\n\u001b[0m\u001b[0;32m   1756\u001b[0m         \u001b[1;32mif\u001b[0m \u001b[0mself\u001b[0m\u001b[1;33m.\u001b[0m\u001b[0m_blit\u001b[0m\u001b[1;33m:\u001b[0m\u001b[1;33m\u001b[0m\u001b[1;33m\u001b[0m\u001b[0m\n\u001b[0;32m   1757\u001b[0m             \u001b[1;32mif\u001b[0m \u001b[0mself\u001b[0m\u001b[1;33m.\u001b[0m\u001b[0m_drawn_artists\u001b[0m \u001b[1;32mis\u001b[0m \u001b[1;32mNone\u001b[0m\u001b[1;33m:\u001b[0m\u001b[1;33m\u001b[0m\u001b[1;33m\u001b[0m\u001b[0m\n",
      "\u001b[1;31mTypeError\u001b[0m: animate() takes 3 positional arguments but 4 were given"
     ]
    }
   ],
   "source": [
    "from matplotlib import animation\n",
    "from IPython.display import HTML\n",
    "\n",
    "# using Kepler's Law to plot elliptical orbits of Earth and Venus around the Sun\n",
    "# https://nssdc.gsfc.nasa.gov/planetary/factsheet/venusfact.html\n",
    "\n",
    "def find_r(a, e, theta):\n",
    "    r = (a * (1 - e**2)) / (1 + e*np.cos(theta)) # Using Kepler's First Law of Planetary Motion\n",
    "    x = r*np.cos(theta) # changing from polar to cartesian coordinates\n",
    "    y = r*np.sin(theta)\n",
    "    return x, y\n",
    "    \n",
    "a_m1 = 149.6 * 10**9 # semi-major axis of Earth's orbit (meters)\n",
    "e_m1 = 0.0167 # Earth's eccentricity\n",
    "\n",
    "a_m2 = 108.21 * 10**9 # semi-major axis of Venus's orbit (meters)\n",
    "e_m2 = 0.0067 # Venus's eccentricity\n",
    "\n",
    "theta_list = np.linspace(0, 2*np.pi, 365)\n",
    "x1, y1 = find_r(a_m1, e_m1, theta_list)\n",
    "x2, y2 = find_r(a_m2, e_m2, theta_list)\n",
    "plt.figure()\n",
    "plt.show()\n",
    "plt.figure()\n",
    "plt.plot(x1, y1, label = 'Earth')\n",
    "plt.plot(x2, y2, label = \"Venus\")\n",
    "plt.plot(0,0, 'o', label=\"Sun\")\n",
    "plt.legend(loc='upper right')\n",
    "plt.show() \n",
    "\n",
    "fig, ax = plt.subplots()\n",
    "ax.set_xlim((-5,5))\n",
    "ax.set_ylim((-5,5))\n",
    "plt.close(fig)\n",
    "ellipse, = ax.plot([],[])\n",
    "\n",
    "def init():\n",
    "    ellipse.set_data([],[])\n",
    "    return(ellipse,)\n",
    "\n",
    "def animate(a, e, theta):\n",
    "    x, y = find_r(a, e, theta)\n",
    "    ellipse.set_data(x, y)\n",
    "    return(ellipse,)\n",
    "    \n",
    "ani1 = animation.FuncAnimation(fig, animate, frames = None, init_func = init, fargs = [a_m1, e_m1, theta_list], interval = 100, blit = False)\n",
    "ani2 = animation.FuncAnimation(fig, animate, frames = None, init_func = init, fargs = [a_m2, e_m2, theta_list], interval = 100, blit = False)\n",
    "\n",
    "HTML(ani1.to_jshtml())\n",
    "HTML(ani2.to_jshtml())\n",
    "\n",
    "\n",
    "\n",
    "\n",
    "    \n",
    "\n",
    "    \n",
    "    \n",
    "    \n",
    "    \n",
    "    "
   ]
  },
  {
   "cell_type": "code",
   "execution_count": null,
   "metadata": {},
   "outputs": [],
   "source": []
  },
  {
   "cell_type": "code",
   "execution_count": null,
   "metadata": {},
   "outputs": [],
   "source": []
  }
 ],
 "metadata": {
  "kernelspec": {
   "display_name": "Python 3",
   "language": "python",
   "name": "python3"
  },
  "language_info": {
   "codemirror_mode": {
    "name": "ipython",
    "version": 3
   },
   "file_extension": ".py",
   "mimetype": "text/x-python",
   "name": "python",
   "nbconvert_exporter": "python",
   "pygments_lexer": "ipython3",
   "version": "3.7.6"
  }
 },
 "nbformat": 4,
 "nbformat_minor": 4
}
