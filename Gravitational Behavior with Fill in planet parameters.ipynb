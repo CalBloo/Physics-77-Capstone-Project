{
 "cells": [
  {
   "cell_type": "code",
   "execution_count": 26,
   "metadata": {},
   "outputs": [],
   "source": [
    "import numpy as np\n",
    "import matplotlib as plt\n",
    "%matplotlib inline"
   ]
  },
  {
   "cell_type": "code",
   "execution_count": 27,
   "metadata": {},
   "outputs": [],
   "source": [
    "def planet_1(m1,m2,msun,r2,rsun):\n",
    "    def gravity_sun(msun,m1,r):\n",
    "        #https://physics.nist.gov/cgi-bin/cuu/Value?bg\n",
    "        G = 6.67430*(10**-11)\n",
    "        return(-G*msun*m1/(r**2))\n",
    "    def gravity_m2(m2,m1,r):\n",
    "        #https://physics.nist.gov/cgi-bin/cuu/Value?bg\n",
    "        G = 6.67430*(10**-11)\n",
    "        return(-G*m2*m1/(r**2))\n",
    "    return(gravity_sun(msun,m1,rsun),gravity_m2(m2,m1,r2))\n",
    "    "
   ]
  },
  {
   "cell_type": "code",
   "execution_count": 28,
   "metadata": {},
   "outputs": [],
   "source": [
    "def planet_2(m1,m2,msun,r1,rsun):\n",
    "    def gravity_sun(msun,m1,r):\n",
    "        #https://physics.nist.gov/cgi-bin/cuu/Value?bg\n",
    "        G = 6.67430*(10**-11)\n",
    "        return(-G*msun*m1/(r**2))\n",
    "    def gravity_m1(m2,m1,r):\n",
    "        #https://physics.nist.gov/cgi-bin/cuu/Value?bg\n",
    "        G = 6.67430*(10**-11)\n",
    "        return(-G*m2*m1/(r**2))\n",
    "    return(gravity_sun(msun,m2,rsun),gravity_m1(m2,m1,r1))\n",
    "    "
   ]
  },
  {
   "cell_type": "code",
   "execution_count": 29,
   "metadata": {},
   "outputs": [],
   "source": [
    "#https://nssdc.gsfc.nasa.gov/planetary/factsheet/sunfact.html\n",
    "msun = 1988500*(10**24)\n",
    "m1 = 5.9724*(10**24)\n",
    "m2 = 8*(10**24)"
   ]
  },
  {
   "cell_type": "code",
   "execution_count": 30,
   "metadata": {},
   "outputs": [],
   "source": [
    "sun_pos = [0,0]\n",
    "p1_pos = [1000000,0]\n",
    "p2_pos = [0,2000000]\n",
    "\n",
    "x12 = p1_pos[0]-p2_pos[0]\n",
    "y12 = p1_pos[1]-p2_pos[1]\n",
    "rsun_1 = np.sqrt((p1_pos[0]**2) + (p1_pos[1]**2))\n",
    "rsun_2 = np.sqrt((p2_pos[0]**2) + (p2_pos[1]**2))\n",
    "r12 = np.sqrt((x12**2)+(y12**2)) "
   ]
  },
  {
   "cell_type": "code",
   "execution_count": 31,
   "metadata": {},
   "outputs": [],
   "source": [
    "sun_on_p1, p2_on_p1 = planet_1(m1,m2,msun,r12,rsun_1) \n",
    "sun_on_p2, p1_on_p2 = planet_2(m1,m2,msun,r12,rsun_2)"
   ]
  },
  {
   "cell_type": "code",
   "execution_count": null,
   "metadata": {},
   "outputs": [],
   "source": []
  }
 ],
 "metadata": {
  "kernelspec": {
   "display_name": "Python 3",
   "language": "python",
   "name": "python3"
  },
  "language_info": {
   "codemirror_mode": {
    "name": "ipython",
    "version": 3
   },
   "file_extension": ".py",
   "mimetype": "text/x-python",
   "name": "python",
   "nbconvert_exporter": "python",
   "pygments_lexer": "ipython3",
   "version": "3.6.9"
  }
 },
 "nbformat": 4,
 "nbformat_minor": 4
}
