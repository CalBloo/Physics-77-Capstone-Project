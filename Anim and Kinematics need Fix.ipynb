{
 "cells": [
  {
   "cell_type": "code",
   "execution_count": 1,
   "metadata": {},
   "outputs": [],
   "source": [
    "import numpy as np\n",
    "import matplotlib.pyplot as plt\n",
    "from matplotlib import animation\n",
    "from IPython.display import HTML\n",
    "%matplotlib inline\n"
   ]
  },
  {
   "cell_type": "code",
   "execution_count": 69,
   "metadata": {},
   "outputs": [],
   "source": [
    "def planet_1(m1,m2,msun,r2,rsun,theta2,thetasun,dt,v0x,v0y):\n",
    "    def gravity_sun(msun,m1,r):\n",
    "        #https://physics.nist.gov/cgi-bin/cuu/Value?bg\n",
    "        G = 6.67430*(10**-11)\n",
    "        return(-G*msun*m1/(r**2))\n",
    "    def gravity_m2(m2,m1,r):\n",
    "        #https://physics.nist.gov/cgi-bin/cuu/Value?bg\n",
    "        G = 6.67430*(10**-11)\n",
    "        return(-G*m2*m1/(r**2))\n",
    "    def fx(m1,m2,msun,r2,rsun,thetasun,theta2):\n",
    "        gsun = gravity_sun(msun,m1,rsun)\n",
    "        gm2 = gravity_m2(m2,m1,r2)\n",
    "        return(np.cos(thetasun)*gsun + np.sin(theta2)*gm2)\n",
    "    def fy(m1,m2,msun,r2,rsun,thetasun,theta2):\n",
    "        gsun = gravity_sun(msun,m1,rsun)\n",
    "        gm2 = gravity_m2(m2,m1,r2)\n",
    "        return(np.sin(thetasun)*gsun + np.cos(theta2)*gm2)\n",
    "    def ax(m1,m2,msun,r2,rsun,thetasun,theta2):\n",
    "        return(fx(m1,m2,msun,r2,rsun,thetasun,theta2)/m1)\n",
    "    def ay(m1,m2,msun,r2,rsun,thetasun,theta2):\n",
    "        return(fy(m1,m2,msun,r2,rsun,thetasun,theta2)/m1)\n",
    "    def vx(m1,m2,msun,r2,rsun,thetasun,theta2,dt,v0x):\n",
    "        return(ax(m1,m2,msun,r2,rsun,thetasun,theta2)*dt+v0x)\n",
    "    def vy(m1,m2,msun,r2,rsun,thetasun,theta2,dt,v0y):\n",
    "        return(ay(m1,m2,msun,r2,rsun,thetasun,theta2)*dt+v0y)\n",
    "    return(gravity_sun(msun,m1,rsun),gravity_m2(m2,m1,r2),fx(m1,m2,msun,r2,rsun,thetasun,theta2),\n",
    "          fy(m1,m2,msun,r2,rsun,thetasun,theta2),ax(m1,m2,msun,r2,rsun,thetasun,theta2),\n",
    "          ay(m1,m2,msun,r2,rsun,thetasun,theta2),vx(m1,m2,msun,r2,rsun,thetasun,theta2,dt,v0x),\n",
    "          vy(m1,m2,msun,r2,rsun,thetasun,theta2,dt,v0y))\n",
    "    "
   ]
  },
  {
   "cell_type": "code",
   "execution_count": 70,
   "metadata": {},
   "outputs": [],
   "source": [
    "def planet_1_kinematics(m1,m2,msun,r2,rsun,theta2,thetasun,dt,v0x,v0y):\n",
    "    def gravity_sun(msun,m1,r):\n",
    "        #https://physics.nist.gov/cgi-bin/cuu/Value?bg\n",
    "        G = 6.67430*(10**-11)\n",
    "        return(-G*msun*m1/(r**2))\n",
    "    def gravity_m2(m2,m1,r):\n",
    "        #https://physics.nist.gov/cgi-bin/cuu/Value?bg\n",
    "        G = 6.67430*(10**-11)\n",
    "        return(-G*m2*m1/(r**2))\n",
    "    def fx(m1,m2,msun,r2,rsun,thetasun,theta2):\n",
    "        gsun = gravity_sun(msun,m1,rsun)\n",
    "        gm2 = gravity_m2(m2,m1,r2)\n",
    "        return(np.cos(thetasun)*gsun + np.sin(theta2)*gm2)\n",
    "    def fy(m1,m2,msun,r2,rsun,thetasun,theta2):\n",
    "        gsun = gravity_sun(msun,m1,rsun)\n",
    "        gm2 = gravity_m2(m2,m1,r2)\n",
    "        return(np.sin(thetasun)*gsun + np.cos(theta2)*gm2)\n",
    "    def ax(m1,m2,msun,r2,rsun,thetasun,theta2):\n",
    "        return(fx(m1,m2,msun,r2,rsun,thetasun,theta2)/m1)\n",
    "    def ay(m1,m2,msun,r2,rsun,thetasun,theta2):\n",
    "        return(fy(m1,m2,msun,r2,rsun,thetasun,theta2)/m1)\n",
    "    def vx(m1,m2,msun,r2,rsun,thetasun,theta2,dt,v0x):\n",
    "        return(ax(m1,m2,msun,r2,rsun,thetasun,theta2)*dt+v0x)\n",
    "    def vy(m1,m2,msun,r2,rsun,thetasun,theta2,dt,v0y):\n",
    "        return(ay(m1,m2,msun,r2,rsun,thetasun,theta2)*dt+v0y)\n",
    "    \n",
    "    return(ax(m1,m2,msun,r2,rsun,thetasun,theta2),\n",
    "          ay(m1,m2,msun,r2,rsun,thetasun,theta2),vx(m1,m2,msun,r2,rsun,thetasun,theta2,dt,v0x),\n",
    "          vy(m1,m2,msun,r2,rsun,thetasun,theta2,dt,v0y))"
   ]
  },
  {
   "cell_type": "code",
   "execution_count": 71,
   "metadata": {},
   "outputs": [],
   "source": [
    "def planet_2(m1,m2,msun,r1,rsun,theta2,thetasun,dt,v0x,v0y):\n",
    "    def gravity_sun(msun,m1,r):\n",
    "        #https://physics.nist.gov/cgi-bin/cuu/Value?bg\n",
    "        G = 6.67430*(10**-11)\n",
    "        return(-G*msun*m1/(r**2))\n",
    "    def gravity_m1(m2,m1,r):\n",
    "        #https://physics.nist.gov/cgi-bin/cuu/Value?bg\n",
    "        G = 6.67430*(10**-11)\n",
    "        return(-G*m2*m1/(r**2))\n",
    "    def fx(m1,m2,msun,r1,rsun,thetasun,theta2):\n",
    "        gsun = gravity_sun(msun,m1,rsun)\n",
    "        gm2 = gravity_m1(m2,m1,r1)\n",
    "        return(np.cos(thetasun)*gsun + np.sin(theta2)*gm2)\n",
    "    def fy(m1,m2,msun,r1,rsun,thetasun,theta2):\n",
    "        gsun = gravity_sun(msun,m1,rsun)\n",
    "        gm2 = gravity_m1(m2,m1,r1)\n",
    "        return(np.sin(thetasun)*gsun + np.cos(theta2)*gm2)\n",
    "    def ax(m1,m2,msun,r1,rsun,thetasun,theta2):\n",
    "        return(fx(m1,m2,msun,r1,rsun,thetasun,theta2)/m2)\n",
    "    def ay(m1,m2,msun,r1,rsun,thetasun,theta2):\n",
    "        return(fy(m1,m2,msun,r1,rsun,thetasun,theta2)/m2)\n",
    "    def vx(m1,m2,msun,r1,rsun,thetasun,theta2,dt,v0x):\n",
    "        return(ax(m1,m2,msun,r1,rsun,thetasun,theta2)*dt+v0x)\n",
    "    def vy(m1,m2,msun,r1,rsun,thetasun,theta2,dt,v0y):\n",
    "        return(ay(m1,m2,msun,r1,rsun,thetasun,theta2)*dt+v0y)\n",
    "    return(gravity_sun(msun,m2,rsun),gravity_m1(m2,m1,r1),fx(m1,m2,msun,r1,rsun,thetasun,theta2),\n",
    "          fy(m1,m2,msun,r1,rsun,thetasun,theta2),ax(m1,m2,msun,r1,rsun,thetasun,theta2),\n",
    "          ay(m1,m2,msun,r1,rsun,thetasun,theta2),vx(m1,m2,msun,r1,rsun,thetasun,theta2,dt,v0x),\n",
    "          vy(m1,m2,msun,r1,rsun,thetasun,theta2,dt,v0y))\n",
    "    "
   ]
  },
  {
   "cell_type": "code",
   "execution_count": 72,
   "metadata": {},
   "outputs": [],
   "source": [
    "def planet_2_kinematics(m1,m2,msun,r1,rsun,theta2,thetasun,dt,v0x,v0y):\n",
    "    def gravity_sun(msun,m1,r):\n",
    "        #https://physics.nist.gov/cgi-bin/cuu/Value?bg\n",
    "        G = 6.67430*(10**-11)\n",
    "        return(-G*msun*m1/(r**2))\n",
    "    def gravity_m1(m2,m1,r):\n",
    "        #https://physics.nist.gov/cgi-bin/cuu/Value?bg\n",
    "        G = 6.67430*(10**-11)\n",
    "        return(-G*m2*m1/(r**2))\n",
    "    def fx(m1,m2,msun,r1,rsun,thetasun,theta2):\n",
    "        gsun = gravity_sun(msun,m1,rsun)\n",
    "        gm2 = gravity_m1(m2,m1,r1)\n",
    "        return(np.cos(thetasun)*gsun + np.sin(theta2)*gm2)\n",
    "    def fy(m1,m2,msun,r1,rsun,thetasun,theta2):\n",
    "        gsun = gravity_sun(msun,m1,rsun)\n",
    "        gm2 = gravity_m1(m2,m1,r1)\n",
    "        return(np.sin(thetasun)*gsun + np.cos(theta2)*gm2)\n",
    "    def ax(m1,m2,msun,r1,rsun,thetasun,theta2):\n",
    "        return(fx(m1,m2,msun,r1,rsun,thetasun,theta2)/m2)\n",
    "    def ay(m1,m2,msun,r1,rsun,thetasun,theta2):\n",
    "        return(fy(m1,m2,msun,r1,rsun,thetasun,theta2)/m2)\n",
    "    def vx(m1,m2,msun,r1,rsun,thetasun,theta2,dt,v0x):\n",
    "        return(ax(m1,m2,msun,r1,rsun,thetasun,theta2)*dt+v0x)\n",
    "    def vy(m1,m2,msun,r1,rsun,thetasun,theta2,dt,v0y):\n",
    "        return(ay(m1,m2,msun,r1,rsun,thetasun,theta2)*dt+v0y)\n",
    "    \n",
    "    return(ax(m1,m2,msun,r1,rsun,thetasun,theta2),\n",
    "          ay(m1,m2,msun,r1,rsun,thetasun,theta2),vx(m1,m2,msun,r1,rsun,thetasun,theta2,dt,v0x),\n",
    "          vy(m1,m2,msun,r1,rsun,thetasun,theta2,dt,v0y))"
   ]
  },
  {
   "cell_type": "code",
   "execution_count": 159,
   "metadata": {},
   "outputs": [],
   "source": [
    "#Scaling factors: adjust to scale units\n",
    "m_scale = 1# SI = 1 --> g = 1000\n",
    "r_scale = 1 # SI = 1 --> km = 0.001\n",
    "t_scale = 1 # SI = 1 --> ms = 1000\n",
    "\n",
    "#Establish masses\n",
    "#https://nssdc.gsfc.nasa.gov/planetary/factsheet/sunfact.html\n",
    "msun = m_scale*1988500*(10**24)\n",
    "m1 = m_scale*5.9724*(10**24)\n",
    "m2 = m_scale*8*(10**24)\n",
    "\n",
    "#Establish distances\n",
    "sun_pos = [0*r_scale,0*r_scale]\n",
    "p1_pos = [1000000*r_scale,0*r_scale]\n",
    "p2_pos = [0*r_scale,2000000*r_scale]\n",
    "\n",
    "x12 = (p1_pos[0]-p2_pos[0])\n",
    "y12 = (p1_pos[1]-p2_pos[1])\n",
    "rsun_1 = np.sqrt((p1_pos[0]**2) + (p1_pos[1]**2))\n",
    "rsun_2 = np.sqrt((p2_pos[0]**2) + (p2_pos[1]**2))\n",
    "r12 = np.sqrt((x12**2)+(y12**2)) \n",
    "\n",
    "#Establish angles\n",
    "theta2 = np.arctan(x12/y12)\n",
    "if p1_pos[0] == 0:\n",
    "    thetasun_1 = np.pi/2\n",
    "else:\n",
    "    thetasun_1 = np.arctan(p1_pos[1]/p1_pos[0])\n",
    "    \n",
    "if p2_pos[0] == 0:\n",
    "    thetasun_2 = np.pi/2\n",
    "else:\n",
    "    thetasun_2 = np.arctan(p2_pos[1]/p2_pos[0])\n",
    "\n",
    "#Establish Initial Velocities and Time\n",
    "v0x_1 = 0*m_scale/t_scale\n",
    "v0y_1 = 0*m_scale/t_scale\n",
    "v0x_2 = 0*m_scale/t_scale\n",
    "v0y_2 = 0*m_scale/t_scale\n",
    "dt = t_scale*1\n",
    "\n",
    "#Establishes physical parameters on 2 relevant orbiting planets\n",
    "sun_on_p1, p2_on_p1, net_f_x_1, net_f_y_1, ax_1, ay_1, vx_1, vy_1 = planet_1(m1,m2,msun,r12,rsun_1,theta2,thetasun_1,dt,v0x_1,v0y_1) \n",
    "sun_on_p2, p1_on_p2, net_f_x_2, net_f_y_2, ax_2, ay_2, vx_2, vy_2 = planet_2(m1,m2,msun,r12,rsun_2,theta2,thetasun_2,dt,v0x_2,v0y_2)"
   ]
  },
  {
   "cell_type": "code",
   "execution_count": 121,
   "metadata": {},
   "outputs": [],
   "source": [
    "def pos_1_update(p1_pos,vx_1,vy_1,ax_1,ay_1,dt):\n",
    "    p1_pos[0] = p1_pos[0] + vx_1*dt + 0.5*ax_1*(dt**2)\n",
    "    p1_pos[1] = p1_pos[1] + vy_1*dt + 0.5*ay_1*(dt**2)\n",
    "    \n",
    "    x12 = p1_pos[0]-p2_pos[0]\n",
    "    y12 = p1_pos[1]-p2_pos[1]\n",
    "    rsun_1 = np.sqrt((p1_pos[0]**2) + (p1_pos[1]**2))\n",
    "    rsun_2 = np.sqrt((p2_pos[0]**2) + (p2_pos[1]**2))\n",
    "    r12 = np.sqrt((x12**2)+(y12**2)) \n",
    "\n",
    "    theta2 = np.arctan(x12/y12)\n",
    "    if p1_pos[0] == 0:\n",
    "        thetasun_1 = np.pi/2\n",
    "    else:\n",
    "        thetasun_1 = np.arctan(p1_pos[1]/p1_pos[0])\n",
    "\n",
    "    if p2_pos[0] == 0:\n",
    "        thetasun_2 = np.pi/2\n",
    "    else:\n",
    "        thetasun_2 = np.arctan(p2_pos[1]/p2_pos[0])\n",
    "\n",
    "    ax_1, ay_1, vx_1, vy_1 = planet_1_kinematics(m1,m2,msun,r12,rsun_1,theta2,thetasun_1,dt,v0x_1,v0y_1)\n",
    "    position = [p1_pos[0],p1_pos[1]]\n",
    "    return position,vx_1,vy_1,ax_1,ay_1\n",
    "    \n",
    "    "
   ]
  },
  {
   "cell_type": "code",
   "execution_count": 272,
   "metadata": {},
   "outputs": [
    {
     "ename": "TypeError",
     "evalue": "pos_1_update() takes 6 positional arguments but 7 were given",
     "output_type": "error",
     "traceback": [
      "\u001b[0;31m---------------------------------------------------------------------------\u001b[0m",
      "\u001b[0;31mTypeError\u001b[0m                                 Traceback (most recent call last)",
      "\u001b[0;32m<ipython-input-272-f1c9c80c60f2>\u001b[0m in \u001b[0;36m<module>\u001b[0;34m\u001b[0m\n\u001b[1;32m      2\u001b[0m \u001b[0mv0y_1\u001b[0m \u001b[0;34m=\u001b[0m \u001b[0;36m1000000000\u001b[0m\u001b[0;34m*\u001b[0m\u001b[0mm_scale\u001b[0m\u001b[0;34m/\u001b[0m\u001b[0mt_scale\u001b[0m\u001b[0;34m\u001b[0m\u001b[0;34m\u001b[0m\u001b[0m\n\u001b[1;32m      3\u001b[0m \u001b[0msun_on_p1\u001b[0m\u001b[0;34m,\u001b[0m \u001b[0mp2_on_p1\u001b[0m\u001b[0;34m,\u001b[0m \u001b[0mnet_f_x_1\u001b[0m\u001b[0;34m,\u001b[0m \u001b[0mnet_f_y_1\u001b[0m\u001b[0;34m,\u001b[0m \u001b[0max_1\u001b[0m\u001b[0;34m,\u001b[0m \u001b[0may_1\u001b[0m\u001b[0;34m,\u001b[0m \u001b[0mvx_1\u001b[0m\u001b[0;34m,\u001b[0m \u001b[0mvy_1\u001b[0m \u001b[0;34m=\u001b[0m \u001b[0mplanet_1\u001b[0m\u001b[0;34m(\u001b[0m\u001b[0mm1\u001b[0m\u001b[0;34m,\u001b[0m\u001b[0mm2\u001b[0m\u001b[0;34m,\u001b[0m\u001b[0mmsun\u001b[0m\u001b[0;34m,\u001b[0m\u001b[0mr12\u001b[0m\u001b[0;34m,\u001b[0m\u001b[0mrsun_1\u001b[0m\u001b[0;34m,\u001b[0m\u001b[0mtheta2\u001b[0m\u001b[0;34m,\u001b[0m\u001b[0mthetasun_1\u001b[0m\u001b[0;34m,\u001b[0m\u001b[0mdt\u001b[0m\u001b[0;34m,\u001b[0m\u001b[0mv0x_1\u001b[0m\u001b[0;34m,\u001b[0m\u001b[0mv0y_1\u001b[0m\u001b[0;34m)\u001b[0m\u001b[0;34m\u001b[0m\u001b[0;34m\u001b[0m\u001b[0m\n\u001b[0;32m----> 4\u001b[0;31m \u001b[0mp1_list\u001b[0m \u001b[0;34m=\u001b[0m \u001b[0mpos_1_update\u001b[0m\u001b[0;34m(\u001b[0m\u001b[0mp1_pos\u001b[0m\u001b[0;34m,\u001b[0m\u001b[0mvx_1\u001b[0m\u001b[0;34m,\u001b[0m\u001b[0mvy_1\u001b[0m\u001b[0;34m,\u001b[0m\u001b[0max_1\u001b[0m\u001b[0;34m,\u001b[0m\u001b[0may_1\u001b[0m\u001b[0;34m,\u001b[0m\u001b[0;36m0.1\u001b[0m\u001b[0;34m,\u001b[0m\u001b[0;36m100\u001b[0m\u001b[0;34m)\u001b[0m\u001b[0;34m\u001b[0m\u001b[0;34m\u001b[0m\u001b[0m\n\u001b[0m",
      "\u001b[0;31mTypeError\u001b[0m: pos_1_update() takes 6 positional arguments but 7 were given"
     ]
    }
   ],
   "source": [
    "v0x_1 = 0*m_scale/t_scale\n",
    "v0y_1 = 1000000000*m_scale/t_scale\n",
    "sun_on_p1, p2_on_p1, net_f_x_1, net_f_y_1, ax_1, ay_1, vx_1, vy_1 = planet_1(m1,m2,msun,r12,rsun_1,theta2,thetasun_1,dt,v0x_1,v0y_1) \n",
    "p1_list = pos_1_update(p1_pos,vx_1,vy_1,ax_1,ay_1,0.1,100)"
   ]
  },
  {
   "cell_type": "code",
   "execution_count": 273,
   "metadata": {},
   "outputs": [
    {
     "name": "stdout",
     "output_type": "stream",
     "text": [
      "([-1.2935463109559986, 1000.0000310134744], -0.00017167633054967983, 1000000000.1327176, -0.0017167633054967983, 1.3271758000321614)\n",
      "([-1.2935463109559986e-07, 0.00010000000310134744], -0.00017167633054967983, 1000000000.1327176, -0.0017167633054967983, 1.3271758000321614)\n"
     ]
    },
    {
     "ename": "IndexError",
     "evalue": "invalid index to scalar variable.",
     "output_type": "error",
     "traceback": [
      "\u001b[0;31m---------------------------------------------------------------------------\u001b[0m",
      "\u001b[0;31mIndexError\u001b[0m                                Traceback (most recent call last)",
      "\u001b[0;32m<ipython-input-273-48d7cc6adb2f>\u001b[0m in \u001b[0;36m<module>\u001b[0;34m\u001b[0m\n\u001b[1;32m      1\u001b[0m \u001b[0;32mfor\u001b[0m \u001b[0mi\u001b[0m \u001b[0;32min\u001b[0m \u001b[0mrange\u001b[0m\u001b[0;34m(\u001b[0m\u001b[0mlen\u001b[0m\u001b[0;34m(\u001b[0m\u001b[0mp1_list\u001b[0m\u001b[0;34m)\u001b[0m\u001b[0;34m)\u001b[0m\u001b[0;34m:\u001b[0m\u001b[0;34m\u001b[0m\u001b[0;34m\u001b[0m\u001b[0m\n\u001b[1;32m      2\u001b[0m     \u001b[0mprint\u001b[0m\u001b[0;34m(\u001b[0m\u001b[0mp1_list\u001b[0m\u001b[0;34m)\u001b[0m\u001b[0;34m\u001b[0m\u001b[0;34m\u001b[0m\u001b[0m\n\u001b[0;32m----> 3\u001b[0;31m     \u001b[0mp1_list\u001b[0m\u001b[0;34m[\u001b[0m\u001b[0mi\u001b[0m\u001b[0;34m]\u001b[0m\u001b[0;34m[\u001b[0m\u001b[0;36m0\u001b[0m\u001b[0;34m]\u001b[0m \u001b[0;34m=\u001b[0m \u001b[0mp1_list\u001b[0m\u001b[0;34m[\u001b[0m\u001b[0mi\u001b[0m\u001b[0;34m]\u001b[0m\u001b[0;34m[\u001b[0m\u001b[0;36m0\u001b[0m\u001b[0;34m]\u001b[0m\u001b[0;34m/\u001b[0m\u001b[0;36m10000000\u001b[0m\u001b[0;34m\u001b[0m\u001b[0;34m\u001b[0m\u001b[0m\n\u001b[0m\u001b[1;32m      4\u001b[0m     \u001b[0mp1_list\u001b[0m\u001b[0;34m[\u001b[0m\u001b[0mi\u001b[0m\u001b[0;34m]\u001b[0m\u001b[0;34m[\u001b[0m\u001b[0;36m1\u001b[0m\u001b[0;34m]\u001b[0m \u001b[0;34m=\u001b[0m \u001b[0mp1_list\u001b[0m\u001b[0;34m[\u001b[0m\u001b[0mi\u001b[0m\u001b[0;34m]\u001b[0m\u001b[0;34m[\u001b[0m\u001b[0;36m1\u001b[0m\u001b[0;34m]\u001b[0m\u001b[0;34m/\u001b[0m\u001b[0;36m10000000\u001b[0m\u001b[0;34m\u001b[0m\u001b[0;34m\u001b[0m\u001b[0m\n",
      "\u001b[0;31mIndexError\u001b[0m: invalid index to scalar variable."
     ]
    }
   ],
   "source": [
    "for i in range(len(p1_list)):\n",
    "    print(p1_list)\n",
    "    p1_list[i][0] = p1_list[i][0]/10000000\n",
    "    p1_list[i][1] = p1_list[i][1]/10000000\n"
   ]
  },
  {
   "cell_type": "code",
   "execution_count": 295,
   "metadata": {},
   "outputs": [],
   "source": [
    "fig, ax = plt.subplots()\n",
    "#ax.set_xlim((-2,2))\n",
    "#ax.set_ylim((-2,2))\n",
    "plt.close(fig)\n",
    "orbit_1, = ax.plot([], [], lw=2,marker='o')\n",
    "i = np.linspace(0,100,1000)\n",
    "x = np.cos(2*np.pi/100*i)\n",
    "y = np.sin(2*np.pi/100*i)\n",
    "#ax.plot(x,y)"
   ]
  },
  {
   "cell_type": "code",
   "execution_count": 296,
   "metadata": {},
   "outputs": [],
   "source": [
    "def init():\n",
    "    orbit_1.set_data([],[])\n",
    "    return(orbit_1,)"
   ]
  },
  {
   "cell_type": "code",
   "execution_count": 316,
   "metadata": {},
   "outputs": [],
   "source": [
    "x_list = []\n",
    "y_list = []\n",
    "def animate(i):\n",
    "    global p1_pos\n",
    "    period = 100\n",
    "    \n",
    "    #global pos_1,vx_1,vy_1,ax_1,ay_1\n",
    "    #pos_1,vx_1,vy_1,ax_1,ay_1 = pos_1_update(p1_pos,vx_1,vy_1,ax_1,ay_1,dt)\n",
    "    #x,y = pos_1[0],pos_1[1]\n",
    "    \n",
    "    orbit_1.set_data(x,y)\n",
    "    return orbit_1,\n",
    "    \n",
    "    x = np.cos(2*np.pi/period*i)\n",
    "    y = np.sin(2*np.pi/period*i)\n",
    "    x_list.append(x)\n",
    "    y_list.append(y)\n",
    "    orbit_1.set_data(x,y)\n",
    "    \n",
    "    \n",
    "    return orbit_1,"
   ]
  },
  {
   "cell_type": "code",
   "execution_count": 317,
   "metadata": {},
   "outputs": [],
   "source": [
    "animation_p1 = animation.FuncAnimation(fig,animate,init_func = init, frames =5000, interval = 20,blit = False)"
   ]
  },
  {
   "cell_type": "code",
   "execution_count": null,
   "metadata": {},
   "outputs": [],
   "source": [
    "HTML(animation_p1.to_jshtml())"
   ]
  },
  {
   "cell_type": "code",
   "execution_count": null,
   "metadata": {},
   "outputs": [],
   "source": [
    "plt.scatter(x_list,y_list)"
   ]
  },
  {
   "cell_type": "code",
   "execution_count": null,
   "metadata": {},
   "outputs": [],
   "source": []
  }
 ],
 "metadata": {
  "kernelspec": {
   "display_name": "Python 3",
   "language": "python",
   "name": "python3"
  },
  "language_info": {
   "codemirror_mode": {
    "name": "ipython",
    "version": 3
   },
   "file_extension": ".py",
   "mimetype": "text/x-python",
   "name": "python",
   "nbconvert_exporter": "python",
   "pygments_lexer": "ipython3",
   "version": "3.6.9"
  }
 },
 "nbformat": 4,
 "nbformat_minor": 4
}
