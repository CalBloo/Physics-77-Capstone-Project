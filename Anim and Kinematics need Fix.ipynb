{
 "cells": [
  {
   "cell_type": "code",
   "execution_count": 56,
   "metadata": {},
   "outputs": [],
   "source": [
    "import numpy as np\n",
    "import matplotlib.pyplot as plt\n",
    "from matplotlib import animation\n",
    "from IPython.display import HTML\n",
    "%matplotlib inline\n"
   ]
  },
  {
   "cell_type": "code",
   "execution_count": 13,
   "metadata": {},
   "outputs": [],
   "source": [
    "def planet_1(m1,m2,msun,r2,rsun,theta2,thetasun,dt,v0x,v0y):\n",
    "    def gravity_sun(msun,m1,r):\n",
    "        #https://physics.nist.gov/cgi-bin/cuu/Value?bg\n",
    "        G = 6.67430*(10**-11)\n",
    "        return(-G*msun*m1/(r**2))\n",
    "    def gravity_m2(m2,m1,r):\n",
    "        #https://physics.nist.gov/cgi-bin/cuu/Value?bg\n",
    "        G = 6.67430*(10**-11)\n",
    "        return(-G*m2*m1/(r**2))\n",
    "    def fx(m1,m2,msun,r2,rsun,thetasun,theta2):\n",
    "        gsun = gravity_sun(msun,m1,rsun)\n",
    "        gm2 = gravity_m2(m2,m1,r2)\n",
    "        return(np.cos(thetasun)*gsun + np.sin(theta2)*gm2)\n",
    "    def fy(m1,m2,msun,r2,rsun,thetasun,theta2):\n",
    "        gsun = gravity_sun(msun,m1,rsun)\n",
    "        gm2 = gravity_m2(m2,m1,r2)\n",
    "        return(np.sin(thetasun)*gsun + np.cos(theta2)*gm2)\n",
    "    def ax(m1,m2,msun,r2,rsun,thetasun,theta2):\n",
    "        return(fx(m1,m2,msun,r2,rsun,thetasun,theta2)/m1)\n",
    "    def ay(m1,m2,msun,r2,rsun,thetasun,theta2):\n",
    "        return(fy(m1,m2,msun,r2,rsun,thetasun,theta2)/m1)\n",
    "    def vx(m1,m2,msun,r2,rsun,thetasun,theta2,dt,v0x):\n",
    "        return(ax(m1,m2,msun,r2,rsun,thetasun,theta2)*dt+v0x)\n",
    "    def vy(m1,m2,msun,r2,rsun,thetasun,theta2,dt,v0y):\n",
    "        return(ay(m1,m2,msun,r2,rsun,thetasun,theta2)*dt+v0y)\n",
    "    return(gravity_sun(msun,m1,rsun),gravity_m2(m2,m1,r2),fx(m1,m2,msun,r2,rsun,thetasun,theta2),\n",
    "          fy(m1,m2,msun,r2,rsun,thetasun,theta2),ax(m1,m2,msun,r2,rsun,thetasun,theta2),\n",
    "          ay(m1,m2,msun,r2,rsun,thetasun,theta2),vx(m1,m2,msun,r2,rsun,thetasun,theta2,dt,v0x),\n",
    "          vy(m1,m2,msun,r2,rsun,thetasun,theta2,dt,v0y))\n",
    "    "
   ]
  },
  {
   "cell_type": "code",
   "execution_count": 14,
   "metadata": {},
   "outputs": [],
   "source": [
    "def planet_1_kinematics(m1,m2,msun,r2,rsun,theta2,thetasun,dt,v0x,v0y):\n",
    "    def gravity_sun(msun,m1,r):\n",
    "        #https://physics.nist.gov/cgi-bin/cuu/Value?bg\n",
    "        G = 6.67430*(10**-11)\n",
    "        return(-G*msun*m1/(r**2))\n",
    "    def gravity_m2(m2,m1,r):\n",
    "        #https://physics.nist.gov/cgi-bin/cuu/Value?bg\n",
    "        G = 6.67430*(10**-11)\n",
    "        return(-G*m2*m1/(r**2))\n",
    "    def fx(m1,m2,msun,r2,rsun,thetasun,theta2):\n",
    "        gsun = gravity_sun(msun,m1,rsun)\n",
    "        gm2 = gravity_m2(m2,m1,r2)\n",
    "        return(np.cos(thetasun)*gsun + np.sin(theta2)*gm2)\n",
    "    def fy(m1,m2,msun,r2,rsun,thetasun,theta2):\n",
    "        gsun = gravity_sun(msun,m1,rsun)\n",
    "        gm2 = gravity_m2(m2,m1,r2)\n",
    "        return(np.sin(thetasun)*gsun + np.cos(theta2)*gm2)\n",
    "    def ax(m1,m2,msun,r2,rsun,thetasun,theta2):\n",
    "        return(fx(m1,m2,msun,r2,rsun,thetasun,theta2)/m1)\n",
    "    def ay(m1,m2,msun,r2,rsun,thetasun,theta2):\n",
    "        return(fy(m1,m2,msun,r2,rsun,thetasun,theta2)/m1)\n",
    "    def vx(m1,m2,msun,r2,rsun,thetasun,theta2,dt,v0x):\n",
    "        return(ax(m1,m2,msun,r2,rsun,thetasun,theta2)*dt+v0x)\n",
    "    def vy(m1,m2,msun,r2,rsun,thetasun,theta2,dt,v0y):\n",
    "        return(ay(m1,m2,msun,r2,rsun,thetasun,theta2)*dt+v0y)\n",
    "    \n",
    "    return(ax(m1,m2,msun,r2,rsun,thetasun,theta2),\n",
    "          ay(m1,m2,msun,r2,rsun,thetasun,theta2),vx(m1,m2,msun,r2,rsun,thetasun,theta2,dt,v0x),\n",
    "          vy(m1,m2,msun,r2,rsun,thetasun,theta2,dt,v0y))"
   ]
  },
  {
   "cell_type": "code",
   "execution_count": 16,
   "metadata": {},
   "outputs": [],
   "source": [
    "def planet_2(m1,m2,msun,r1,rsun,theta2,thetasun,dt,v0x,v0y):\n",
    "    def gravity_sun(msun,m1,r):\n",
    "        #https://physics.nist.gov/cgi-bin/cuu/Value?bg\n",
    "        G = 6.67430*(10**-11)\n",
    "        return(-G*msun*m1/(r**2))\n",
    "    def gravity_m1(m2,m1,r):\n",
    "        #https://physics.nist.gov/cgi-bin/cuu/Value?bg\n",
    "        G = 6.67430*(10**-11)\n",
    "        return(-G*m2*m1/(r**2))\n",
    "    def fx(m1,m2,msun,r1,rsun,thetasun,theta2):\n",
    "        gsun = gravity_sun(msun,m1,rsun)\n",
    "        gm2 = gravity_m1(m2,m1,r1)\n",
    "        return(np.cos(thetasun)*gsun + np.sin(theta2)*gm2)\n",
    "    def fy(m1,m2,msun,r1,rsun,thetasun,theta2):\n",
    "        gsun = gravity_sun(msun,m1,rsun)\n",
    "        gm2 = gravity_m1(m2,m1,r1)\n",
    "        return(np.sin(thetasun)*gsun + np.cos(theta2)*gm2)\n",
    "    def ax(m1,m2,msun,r1,rsun,thetasun,theta2):\n",
    "        return(fx(m1,m2,msun,r1,rsun,thetasun,theta2)/m2)\n",
    "    def ay(m1,m2,msun,r1,rsun,thetasun,theta2):\n",
    "        return(fy(m1,m2,msun,r1,rsun,thetasun,theta2)/m2)\n",
    "    def vx(m1,m2,msun,r1,rsun,thetasun,theta2,dt,v0x):\n",
    "        return(ax(m1,m2,msun,r1,rsun,thetasun,theta2)*dt+v0x)\n",
    "    def vy(m1,m2,msun,r1,rsun,thetasun,theta2,dt,v0y):\n",
    "        return(ay(m1,m2,msun,r1,rsun,thetasun,theta2)*dt+v0y)\n",
    "    return(gravity_sun(msun,m2,rsun),gravity_m1(m2,m1,r1),fx(m1,m2,msun,r1,rsun,thetasun,theta2),\n",
    "          fy(m1,m2,msun,r1,rsun,thetasun,theta2),ax(m1,m2,msun,r1,rsun,thetasun,theta2),\n",
    "          ay(m1,m2,msun,r1,rsun,thetasun,theta2),vx(m1,m2,msun,r1,rsun,thetasun,theta2,dt,v0x),\n",
    "          vy(m1,m2,msun,r1,rsun,thetasun,theta2,dt,v0y))\n",
    "    "
   ]
  },
  {
   "cell_type": "code",
   "execution_count": 17,
   "metadata": {},
   "outputs": [],
   "source": [
    "def planet_2_kinematics(m1,m2,msun,r1,rsun,theta2,thetasun,dt,v0x,v0y):\n",
    "    def gravity_sun(msun,m1,r):\n",
    "        #https://physics.nist.gov/cgi-bin/cuu/Value?bg\n",
    "        G = 6.67430*(10**-11)\n",
    "        return(-G*msun*m1/(r**2))\n",
    "    def gravity_m1(m2,m1,r):\n",
    "        #https://physics.nist.gov/cgi-bin/cuu/Value?bg\n",
    "        G = 6.67430*(10**-11)\n",
    "        return(-G*m2*m1/(r**2))\n",
    "    def fx(m1,m2,msun,r1,rsun,thetasun,theta2):\n",
    "        gsun = gravity_sun(msun,m1,rsun)\n",
    "        gm2 = gravity_m1(m2,m1,r1)\n",
    "        return(np.cos(thetasun)*gsun + np.sin(theta2)*gm2)\n",
    "    def fy(m1,m2,msun,r1,rsun,thetasun,theta2):\n",
    "        gsun = gravity_sun(msun,m1,rsun)\n",
    "        gm2 = gravity_m1(m2,m1,r1)\n",
    "        return(np.sin(thetasun)*gsun + np.cos(theta2)*gm2)\n",
    "    def ax(m1,m2,msun,r1,rsun,thetasun,theta2):\n",
    "        return(fx(m1,m2,msun,r1,rsun,thetasun,theta2)/m2)\n",
    "    def ay(m1,m2,msun,r1,rsun,thetasun,theta2):\n",
    "        return(fy(m1,m2,msun,r1,rsun,thetasun,theta2)/m2)\n",
    "    def vx(m1,m2,msun,r1,rsun,thetasun,theta2,dt,v0x):\n",
    "        return(ax(m1,m2,msun,r1,rsun,thetasun,theta2)*dt+v0x)\n",
    "    def vy(m1,m2,msun,r1,rsun,thetasun,theta2,dt,v0y):\n",
    "        return(ay(m1,m2,msun,r1,rsun,thetasun,theta2)*dt+v0y)\n",
    "    \n",
    "    return(ax(m1,m2,msun,r1,rsun,thetasun,theta2),\n",
    "          ay(m1,m2,msun,r1,rsun,thetasun,theta2),vx(m1,m2,msun,r1,rsun,thetasun,theta2,dt,v0x),\n",
    "          vy(m1,m2,msun,r1,rsun,thetasun,theta2,dt,v0y))"
   ]
  },
  {
   "cell_type": "code",
   "execution_count": 4,
   "metadata": {},
   "outputs": [],
   "source": [
    "#Establish masses\n",
    "#https://nssdc.gsfc.nasa.gov/planetary/factsheet/sunfact.html\n",
    "msun = 1988500*(10**24)\n",
    "m1 = 5.9724*(10**24)\n",
    "m2 = 8*(10**24)"
   ]
  },
  {
   "cell_type": "code",
   "execution_count": 5,
   "metadata": {},
   "outputs": [],
   "source": [
    "#Establish distances\n",
    "sun_pos = [0,0]\n",
    "p1_pos = [1000000,0]\n",
    "p2_pos = [0,2000000]\n",
    "\n",
    "x12 = p1_pos[0]-p2_pos[0]\n",
    "y12 = p1_pos[1]-p2_pos[1]\n",
    "rsun_1 = np.sqrt((p1_pos[0]**2) + (p1_pos[1]**2))\n",
    "rsun_2 = np.sqrt((p2_pos[0]**2) + (p2_pos[1]**2))\n",
    "r12 = np.sqrt((x12**2)+(y12**2)) "
   ]
  },
  {
   "cell_type": "code",
   "execution_count": 6,
   "metadata": {},
   "outputs": [],
   "source": [
    "#Establish angles\n",
    "theta2 = np.arctan(x12/y12)\n",
    "if p1_pos[0] == 0:\n",
    "    thetasun_1 = np.pi/2\n",
    "else:\n",
    "    thetasun_1 = np.arctan(p1_pos[1]/p1_pos[0])\n",
    "    \n",
    "if p2_pos[0] == 0:\n",
    "    thetasun_2 = np.pi/2\n",
    "else:\n",
    "    thetasun_2 = np.arctan(p2_pos[1]/p2_pos[0])"
   ]
  },
  {
   "cell_type": "code",
   "execution_count": 7,
   "metadata": {},
   "outputs": [],
   "source": [
    "v0x_1 = 0\n",
    "v0y_1 = 0\n",
    "v0x_2 = 0\n",
    "v0y_2 = 0\n",
    "dt = 1"
   ]
  },
  {
   "cell_type": "code",
   "execution_count": 18,
   "metadata": {},
   "outputs": [],
   "source": [
    "sun_on_p1, p2_on_p1, net_f_x_1, net_f_y_1, ax_1, ay_1, vx_1, vy_1 = planet_1(m1,m2,msun,r12,rsun_1,theta2,thetasun_1,dt,v0x_1,v0y_1) \n",
    "sun_on_p2, p1_on_p2, net_f_x_2, net_f_y_2, ax_2, ay_2, vx_2, vy_2 = planet_2(m1,m2,msun,r12,rsun_2,theta2,thetasun_2,dt,v0x_2,v0y_2)"
   ]
  },
  {
   "cell_type": "code",
   "execution_count": 42,
   "metadata": {},
   "outputs": [],
   "source": [
    "\n",
    "\n",
    "def pos_1_update(p1_pos,vx_1,vy_1,ax_1,ay_1,dt,i):\n",
    "    positions = []\n",
    "    for a in range(i):\n",
    "        positions.append([p1_pos[0],p1_pos[1]])\n",
    "        p1_pos[0] = p1_pos[0] + vx_1*dt + 0.5*ax_1*(dt**2)\n",
    "        p1_pos[1] = p1_pos[1] + vy_1*dt + 0.5*ay_1*(dt**2)\n",
    "    \n",
    "        x12 = p1_pos[0]-p2_pos[0]\n",
    "        y12 = p1_pos[1]-p2_pos[1]\n",
    "        rsun_1 = np.sqrt((p1_pos[0]**2) + (p1_pos[1]**2))\n",
    "        rsun_2 = np.sqrt((p2_pos[0]**2) + (p2_pos[1]**2))\n",
    "        r12 = np.sqrt((x12**2)+(y12**2)) \n",
    "\n",
    "        theta2 = np.arctan(x12/y12)\n",
    "        if p1_pos[0] == 0:\n",
    "            thetasun_1 = np.pi/2\n",
    "        else:\n",
    "            thetasun_1 = np.arctan(p1_pos[1]/p1_pos[0])\n",
    "\n",
    "        if p2_pos[0] == 0:\n",
    "            thetasun_2 = np.pi/2\n",
    "        else:\n",
    "            thetasun_2 = np.arctan(p2_pos[1]/p2_pos[0])\n",
    "\n",
    "        ax_1, ay_1, vx_1, vy_1 = planet_1_kinematics(m1,m2,msun,r12,rsun_1,theta2,thetasun_1,dt,v0x_1,v0y_1)\n",
    "\n",
    "    return(positions)\n",
    "    \n",
    "    "
   ]
  },
  {
   "cell_type": "code",
   "execution_count": 174,
   "metadata": {},
   "outputs": [],
   "source": [
    "v0x_1 = 0\n",
    "v0y_1 = 1000000000\n",
    "sun_on_p1, p2_on_p1, net_f_x_1, net_f_y_1, ax_1, ay_1, vx_1, vy_1 = planet_1(m1,m2,msun,r12,rsun_1,theta2,thetasun_1,dt,v0x_1,v0y_1) \n",
    "p1_pos = [1000000,0]\n",
    "p1_list = pos_1_update(p1_pos,vx_1,vy_1,ax_1,ay_1,0.1,100)"
   ]
  },
  {
   "cell_type": "code",
   "execution_count": 175,
   "metadata": {},
   "outputs": [],
   "source": [
    "for i in range(len(p1_list)):\n",
    "    p1_list[i][0] = p1_list[i][0]/10000000\n",
    "    p1_list[i][1] = p1_list[i][1]/10000000\n"
   ]
  },
  {
   "cell_type": "code",
   "execution_count": 176,
   "metadata": {},
   "outputs": [],
   "source": [
    "fig, ax = plt.subplots()\n",
    "ax.set_xlim((-5,5))\n",
    "ax.set_ylim((-5,5))\n",
    "plt.close(fig)\n",
    "orbit_1, = ax.plot([],[])"
   ]
  },
  {
   "cell_type": "code",
   "execution_count": 177,
   "metadata": {},
   "outputs": [],
   "source": [
    "def init():\n",
    "    orbit_1.set_data([],[])\n",
    "    return(orbit_1,)"
   ]
  },
  {
   "cell_type": "code",
   "execution_count": 178,
   "metadata": {},
   "outputs": [],
   "source": [
    "def animate(i):\n",
    "    p1_pos,vx,vy,ax,ay = pos_1_update(p1_pos,vx_1,vy_1,ax_1,ay_1,0.1,i)\n",
    "    for a in range(len(p1_pos)):\n",
    "        x = p1_pos[a][0]\n",
    "        y = p2_pos[a][1]\n",
    "        orbit_1.set_data(x,y)\n",
    "        return(orbit_1,)"
   ]
  },
  {
   "cell_type": "code",
   "execution_count": 179,
   "metadata": {},
   "outputs": [],
   "source": [
    "animation_p1 = animation.FuncAnimation(fig,animate,init_func = init, frames =100, interval = 100,blit = False)"
   ]
  },
  {
   "cell_type": "code",
   "execution_count": 180,
   "metadata": {},
   "outputs": [
    {
     "ename": "UnboundLocalError",
     "evalue": "local variable 'p1_pos' referenced before assignment",
     "output_type": "error",
     "traceback": [
      "\u001b[0;31m---------------------------------------------------------------------------\u001b[0m",
      "\u001b[0;31mUnboundLocalError\u001b[0m                         Traceback (most recent call last)",
      "\u001b[0;32m<ipython-input-180-5a38d28cd620>\u001b[0m in \u001b[0;36m<module>\u001b[0;34m\u001b[0m\n\u001b[0;32m----> 1\u001b[0;31m \u001b[0mHTML\u001b[0m\u001b[0;34m(\u001b[0m\u001b[0manimation_p1\u001b[0m\u001b[0;34m.\u001b[0m\u001b[0mto_jshtml\u001b[0m\u001b[0;34m(\u001b[0m\u001b[0;34m)\u001b[0m\u001b[0;34m)\u001b[0m\u001b[0;34m\u001b[0m\u001b[0;34m\u001b[0m\u001b[0m\n\u001b[0m",
      "\u001b[0;32m/srv/app/venv/lib/python3.6/site-packages/matplotlib/animation.py\u001b[0m in \u001b[0;36mto_jshtml\u001b[0;34m(self, fps, embed_frames, default_mode)\u001b[0m\n\u001b[1;32m   1378\u001b[0m                                     \u001b[0membed_frames\u001b[0m\u001b[0;34m=\u001b[0m\u001b[0membed_frames\u001b[0m\u001b[0;34m,\u001b[0m\u001b[0;34m\u001b[0m\u001b[0;34m\u001b[0m\u001b[0m\n\u001b[1;32m   1379\u001b[0m                                     default_mode=default_mode)\n\u001b[0;32m-> 1380\u001b[0;31m                 \u001b[0mself\u001b[0m\u001b[0;34m.\u001b[0m\u001b[0msave\u001b[0m\u001b[0;34m(\u001b[0m\u001b[0mstr\u001b[0m\u001b[0;34m(\u001b[0m\u001b[0mpath\u001b[0m\u001b[0;34m)\u001b[0m\u001b[0;34m,\u001b[0m \u001b[0mwriter\u001b[0m\u001b[0;34m=\u001b[0m\u001b[0mwriter\u001b[0m\u001b[0;34m)\u001b[0m\u001b[0;34m\u001b[0m\u001b[0;34m\u001b[0m\u001b[0m\n\u001b[0m\u001b[1;32m   1381\u001b[0m                 \u001b[0mself\u001b[0m\u001b[0;34m.\u001b[0m\u001b[0m_html_representation\u001b[0m \u001b[0;34m=\u001b[0m \u001b[0mpath\u001b[0m\u001b[0;34m.\u001b[0m\u001b[0mread_text\u001b[0m\u001b[0;34m(\u001b[0m\u001b[0;34m)\u001b[0m\u001b[0;34m\u001b[0m\u001b[0;34m\u001b[0m\u001b[0m\n\u001b[1;32m   1382\u001b[0m \u001b[0;34m\u001b[0m\u001b[0m\n",
      "\u001b[0;32m/srv/app/venv/lib/python3.6/site-packages/matplotlib/animation.py\u001b[0m in \u001b[0;36msave\u001b[0;34m(self, filename, writer, fps, dpi, codec, bitrate, extra_args, metadata, extra_anim, savefig_kwargs, progress_callback)\u001b[0m\n\u001b[1;32m   1150\u001b[0m                     \u001b[0;32mfor\u001b[0m \u001b[0manim\u001b[0m\u001b[0;34m,\u001b[0m \u001b[0md\u001b[0m \u001b[0;32min\u001b[0m \u001b[0mzip\u001b[0m\u001b[0;34m(\u001b[0m\u001b[0mall_anim\u001b[0m\u001b[0;34m,\u001b[0m \u001b[0mdata\u001b[0m\u001b[0;34m)\u001b[0m\u001b[0;34m:\u001b[0m\u001b[0;34m\u001b[0m\u001b[0;34m\u001b[0m\u001b[0m\n\u001b[1;32m   1151\u001b[0m                         \u001b[0;31m# TODO: See if turning off blit is really necessary\u001b[0m\u001b[0;34m\u001b[0m\u001b[0;34m\u001b[0m\u001b[0;34m\u001b[0m\u001b[0m\n\u001b[0;32m-> 1152\u001b[0;31m                         \u001b[0manim\u001b[0m\u001b[0;34m.\u001b[0m\u001b[0m_draw_next_frame\u001b[0m\u001b[0;34m(\u001b[0m\u001b[0md\u001b[0m\u001b[0;34m,\u001b[0m \u001b[0mblit\u001b[0m\u001b[0;34m=\u001b[0m\u001b[0;32mFalse\u001b[0m\u001b[0;34m)\u001b[0m\u001b[0;34m\u001b[0m\u001b[0;34m\u001b[0m\u001b[0m\n\u001b[0m\u001b[1;32m   1153\u001b[0m                         \u001b[0;32mif\u001b[0m \u001b[0mprogress_callback\u001b[0m \u001b[0;32mis\u001b[0m \u001b[0;32mnot\u001b[0m \u001b[0;32mNone\u001b[0m\u001b[0;34m:\u001b[0m\u001b[0;34m\u001b[0m\u001b[0;34m\u001b[0m\u001b[0m\n\u001b[1;32m   1154\u001b[0m                             \u001b[0mprogress_callback\u001b[0m\u001b[0;34m(\u001b[0m\u001b[0mframe_number\u001b[0m\u001b[0;34m,\u001b[0m \u001b[0mtotal_frames\u001b[0m\u001b[0;34m)\u001b[0m\u001b[0;34m\u001b[0m\u001b[0;34m\u001b[0m\u001b[0m\n",
      "\u001b[0;32m/srv/app/venv/lib/python3.6/site-packages/matplotlib/animation.py\u001b[0m in \u001b[0;36m_draw_next_frame\u001b[0;34m(self, framedata, blit)\u001b[0m\n\u001b[1;32m   1190\u001b[0m         \u001b[0;31m# post- draw, as well as the drawing of the frame itself.\u001b[0m\u001b[0;34m\u001b[0m\u001b[0;34m\u001b[0m\u001b[0;34m\u001b[0m\u001b[0m\n\u001b[1;32m   1191\u001b[0m         \u001b[0mself\u001b[0m\u001b[0;34m.\u001b[0m\u001b[0m_pre_draw\u001b[0m\u001b[0;34m(\u001b[0m\u001b[0mframedata\u001b[0m\u001b[0;34m,\u001b[0m \u001b[0mblit\u001b[0m\u001b[0;34m)\u001b[0m\u001b[0;34m\u001b[0m\u001b[0;34m\u001b[0m\u001b[0m\n\u001b[0;32m-> 1192\u001b[0;31m         \u001b[0mself\u001b[0m\u001b[0;34m.\u001b[0m\u001b[0m_draw_frame\u001b[0m\u001b[0;34m(\u001b[0m\u001b[0mframedata\u001b[0m\u001b[0;34m)\u001b[0m\u001b[0;34m\u001b[0m\u001b[0;34m\u001b[0m\u001b[0m\n\u001b[0m\u001b[1;32m   1193\u001b[0m         \u001b[0mself\u001b[0m\u001b[0;34m.\u001b[0m\u001b[0m_post_draw\u001b[0m\u001b[0;34m(\u001b[0m\u001b[0mframedata\u001b[0m\u001b[0;34m,\u001b[0m \u001b[0mblit\u001b[0m\u001b[0;34m)\u001b[0m\u001b[0;34m\u001b[0m\u001b[0;34m\u001b[0m\u001b[0m\n\u001b[1;32m   1194\u001b[0m \u001b[0;34m\u001b[0m\u001b[0m\n",
      "\u001b[0;32m/srv/app/venv/lib/python3.6/site-packages/matplotlib/animation.py\u001b[0m in \u001b[0;36m_draw_frame\u001b[0;34m(self, framedata)\u001b[0m\n\u001b[1;32m   1753\u001b[0m         \u001b[0;31m# Call the func with framedata and args. If blitting is desired,\u001b[0m\u001b[0;34m\u001b[0m\u001b[0;34m\u001b[0m\u001b[0;34m\u001b[0m\u001b[0m\n\u001b[1;32m   1754\u001b[0m         \u001b[0;31m# func needs to return a sequence of any artists that were modified.\u001b[0m\u001b[0;34m\u001b[0m\u001b[0;34m\u001b[0m\u001b[0;34m\u001b[0m\u001b[0m\n\u001b[0;32m-> 1755\u001b[0;31m         \u001b[0mself\u001b[0m\u001b[0;34m.\u001b[0m\u001b[0m_drawn_artists\u001b[0m \u001b[0;34m=\u001b[0m \u001b[0mself\u001b[0m\u001b[0;34m.\u001b[0m\u001b[0m_func\u001b[0m\u001b[0;34m(\u001b[0m\u001b[0mframedata\u001b[0m\u001b[0;34m,\u001b[0m \u001b[0;34m*\u001b[0m\u001b[0mself\u001b[0m\u001b[0;34m.\u001b[0m\u001b[0m_args\u001b[0m\u001b[0;34m)\u001b[0m\u001b[0;34m\u001b[0m\u001b[0;34m\u001b[0m\u001b[0m\n\u001b[0m\u001b[1;32m   1756\u001b[0m         \u001b[0;32mif\u001b[0m \u001b[0mself\u001b[0m\u001b[0;34m.\u001b[0m\u001b[0m_blit\u001b[0m\u001b[0;34m:\u001b[0m\u001b[0;34m\u001b[0m\u001b[0;34m\u001b[0m\u001b[0m\n\u001b[1;32m   1757\u001b[0m             \u001b[0;32mif\u001b[0m \u001b[0mself\u001b[0m\u001b[0;34m.\u001b[0m\u001b[0m_drawn_artists\u001b[0m \u001b[0;32mis\u001b[0m \u001b[0;32mNone\u001b[0m\u001b[0;34m:\u001b[0m\u001b[0;34m\u001b[0m\u001b[0;34m\u001b[0m\u001b[0m\n",
      "\u001b[0;32m<ipython-input-178-f89bd00bb2bb>\u001b[0m in \u001b[0;36manimate\u001b[0;34m(i)\u001b[0m\n\u001b[1;32m      1\u001b[0m \u001b[0;32mdef\u001b[0m \u001b[0manimate\u001b[0m\u001b[0;34m(\u001b[0m\u001b[0mi\u001b[0m\u001b[0;34m)\u001b[0m\u001b[0;34m:\u001b[0m\u001b[0;34m\u001b[0m\u001b[0;34m\u001b[0m\u001b[0m\n\u001b[0;32m----> 2\u001b[0;31m     \u001b[0mp1_pos\u001b[0m\u001b[0;34m,\u001b[0m\u001b[0mvx\u001b[0m\u001b[0;34m,\u001b[0m\u001b[0mvy\u001b[0m\u001b[0;34m,\u001b[0m\u001b[0max\u001b[0m\u001b[0;34m,\u001b[0m\u001b[0may\u001b[0m \u001b[0;34m=\u001b[0m \u001b[0mpos_1_update\u001b[0m\u001b[0;34m(\u001b[0m\u001b[0mp1_pos\u001b[0m\u001b[0;34m,\u001b[0m\u001b[0mvx_1\u001b[0m\u001b[0;34m,\u001b[0m\u001b[0mvy_1\u001b[0m\u001b[0;34m,\u001b[0m\u001b[0max_1\u001b[0m\u001b[0;34m,\u001b[0m\u001b[0may_1\u001b[0m\u001b[0;34m,\u001b[0m\u001b[0;36m0.1\u001b[0m\u001b[0;34m,\u001b[0m\u001b[0mi\u001b[0m\u001b[0;34m)\u001b[0m\u001b[0;34m\u001b[0m\u001b[0;34m\u001b[0m\u001b[0m\n\u001b[0m\u001b[1;32m      3\u001b[0m     \u001b[0;32mfor\u001b[0m \u001b[0ma\u001b[0m \u001b[0;32min\u001b[0m \u001b[0mrange\u001b[0m\u001b[0;34m(\u001b[0m\u001b[0mlen\u001b[0m\u001b[0;34m(\u001b[0m\u001b[0mp1_pos\u001b[0m\u001b[0;34m)\u001b[0m\u001b[0;34m)\u001b[0m\u001b[0;34m:\u001b[0m\u001b[0;34m\u001b[0m\u001b[0;34m\u001b[0m\u001b[0m\n\u001b[1;32m      4\u001b[0m         \u001b[0mx\u001b[0m \u001b[0;34m=\u001b[0m \u001b[0mp1_pos\u001b[0m\u001b[0;34m[\u001b[0m\u001b[0ma\u001b[0m\u001b[0;34m]\u001b[0m\u001b[0;34m[\u001b[0m\u001b[0;36m0\u001b[0m\u001b[0;34m]\u001b[0m\u001b[0;34m\u001b[0m\u001b[0;34m\u001b[0m\u001b[0m\n\u001b[1;32m      5\u001b[0m         \u001b[0my\u001b[0m \u001b[0;34m=\u001b[0m \u001b[0mp2_pos\u001b[0m\u001b[0;34m[\u001b[0m\u001b[0ma\u001b[0m\u001b[0;34m]\u001b[0m\u001b[0;34m[\u001b[0m\u001b[0;36m1\u001b[0m\u001b[0;34m]\u001b[0m\u001b[0;34m\u001b[0m\u001b[0;34m\u001b[0m\u001b[0m\n",
      "\u001b[0;31mUnboundLocalError\u001b[0m: local variable 'p1_pos' referenced before assignment"
     ]
    }
   ],
   "source": [
    "HTML(animation_p1.to_jshtml())"
   ]
  },
  {
   "cell_type": "code",
   "execution_count": 171,
   "metadata": {},
   "outputs": [
    {
     "data": {
      "text/plain": [
       "<matplotlib.collections.PathCollection at 0x7f5dd91bbf60>"
      ]
     },
     "execution_count": 171,
     "metadata": {},
     "output_type": "execute_result"
    },
    {
     "data": {
      "image/png": "[encoded data removed]",
      "text/plain": [
       "<Figure size 432x288 with 1 Axes>"
      ]
     },
     "metadata": {
      "needs_background": "light"
     },
     "output_type": "display_data"
    }
   ],
   "source": [
    "plt.scatter(x_list,y_list)"
   ]
  },
  {
   "cell_type": "code",
   "execution_count": null,
   "metadata": {},
   "outputs": [],
   "source": []
  }
 ],
 "metadata": {
  "kernelspec": {
   "display_name": "Python 3",
   "language": "python",
   "name": "python3"
  },
  "language_info": {
   "codemirror_mode": {
    "name": "ipython",
    "version": 3
   },
   "file_extension": ".py",
   "mimetype": "text/x-python",
   "name": "python",
   "nbconvert_exporter": "python",
   "pygments_lexer": "ipython3",
   "version": "3.6.9"
  }
 },
 "nbformat": 4,
 "nbformat_minor": 4
}
