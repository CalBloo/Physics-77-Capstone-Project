{
 "cells": [
  {
   "cell_type": "code",
   "execution_count": 91,
   "metadata": {},
   "outputs": [],
   "source": [
    "import numpy as np\n",
    "import matplotlib.pyplot as plt\n",
    "from matplotlib import animation\n",
    "from IPython.display import HTML\n",
    "%matplotlib inline\n"
   ]
  },
  {
   "cell_type": "code",
   "execution_count": 92,
   "metadata": {},
   "outputs": [],
   "source": [
    "def planet_1(m1,m2,msun,r2,rsun,theta2,thetasun,dt,v0x,v0y):\n",
    "    def gravity_sun(msun,m1,r):\n",
    "        #https://physics.nist.gov/cgi-bin/cuu/Value?bg\n",
    "        G = 6.67430*(10**-11)\n",
    "        return(-G*msun*m1/(r**2))\n",
    "    def gravity_m2(m2,m1,r):\n",
    "        #https://physics.nist.gov/cgi-bin/cuu/Value?bg\n",
    "        G = 6.67430*(10**-11)\n",
    "        return(-G*m2*m1/(r**2))\n",
    "    def fx(m1,m2,msun,r2,rsun,thetasun,theta2):\n",
    "        gsun = gravity_sun(msun,m1,rsun)\n",
    "        gm2 = gravity_m2(m2,m1,r2)\n",
    "        return(np.cos(thetasun)*gsun + np.sin(theta2)*gm2)\n",
    "    def fy(m1,m2,msun,r2,rsun,thetasun,theta2):\n",
    "        gsun = gravity_sun(msun,m1,rsun)\n",
    "        gm2 = gravity_m2(m2,m1,r2)\n",
    "        return(np.sin(thetasun)*gsun + np.cos(theta2)*gm2)\n",
    "    def ax(m1,m2,msun,r2,rsun,thetasun,theta2):\n",
    "        return(fx(m1,m2,msun,r2,rsun,thetasun,theta2)/m1)\n",
    "    def ay(m1,m2,msun,r2,rsun,thetasun,theta2):\n",
    "        return(fy(m1,m2,msun,r2,rsun,thetasun,theta2)/m1)\n",
    "    def vx(m1,m2,msun,r2,rsun,thetasun,theta2,dt,v0x):\n",
    "        return(ax(m1,m2,msun,r2,rsun,thetasun,theta2)*dt+v0x)\n",
    "    def vy(m1,m2,msun,r2,rsun,thetasun,theta2,dt,v0y):\n",
    "        return(ay(m1,m2,msun,r2,rsun,thetasun,theta2)*dt+v0y)\n",
    "    return(gravity_sun(msun,m1,rsun),gravity_m2(m2,m1,r2),fx(m1,m2,msun,r2,rsun,thetasun,theta2),\n",
    "          fy(m1,m2,msun,r2,rsun,thetasun,theta2),ax(m1,m2,msun,r2,rsun,thetasun,theta2),\n",
    "          ay(m1,m2,msun,r2,rsun,thetasun,theta2),vx(m1,m2,msun,r2,rsun,thetasun,theta2,dt,v0x),\n",
    "          vy(m1,m2,msun,r2,rsun,thetasun,theta2,dt,v0y))\n",
    "    "
   ]
  },
  {
   "cell_type": "code",
   "execution_count": 93,
   "metadata": {},
   "outputs": [],
   "source": [
    "def planet_2(m1,m2,msun,r1,rsun,theta2,thetasun,dt,v0x,v0y):\n",
    "    def gravity_sun(msun,m1,r):\n",
    "        #https://physics.nist.gov/cgi-bin/cuu/Value?bg\n",
    "        G = 6.67430*(10**-11)\n",
    "        return(-G*msun*m1/(r**2))\n",
    "    def gravity_m1(m2,m1,r):\n",
    "        #https://physics.nist.gov/cgi-bin/cuu/Value?bg\n",
    "        G = 6.67430*(10**-11)\n",
    "        return(-G*m2*m1/(r**2))\n",
    "    def fx(m1,m2,msun,r1,rsun,thetasun,theta2):\n",
    "        gsun = gravity_sun(msun,m1,rsun)\n",
    "        gm2 = gravity_m1(m2,m1,r1)\n",
    "        return(np.cos(thetasun)*gsun + np.sin(theta2)*gm2)\n",
    "    def fy(m1,m2,msun,r1,rsun,thetasun,theta2):\n",
    "        gsun = gravity_sun(msun,m1,rsun)\n",
    "        gm2 = gravity_m1(m2,m1,r1)\n",
    "        return(np.sin(thetasun)*gsun + np.cos(theta2)*gm2)\n",
    "    def ax(m1,m2,msun,r1,rsun,thetasun,theta2):\n",
    "        return(fx(m1,m2,msun,r1,rsun,thetasun,theta2)/m2)\n",
    "    def ay(m1,m2,msun,r1,rsun,thetasun,theta2):\n",
    "        return(fy(m1,m2,msun,r1,rsun,thetasun,theta2)/m2)\n",
    "    def vx(m1,m2,msun,r1,rsun,thetasun,theta2,dt,v0x):\n",
    "        return(ax(m1,m2,msun,r1,rsun,thetasun,theta2)*dt+v0x)\n",
    "    def vy(m1,m2,msun,r1,rsun,thetasun,theta2,dt,v0y):\n",
    "        return(ay(m1,m2,msun,r1,rsun,thetasun,theta2)*dt+v0y)\n",
    "    return(gravity_sun(msun,m2,rsun),gravity_m1(m2,m1,r1),fx(m1,m2,msun,r1,rsun,thetasun,theta2),\n",
    "          fy(m1,m2,msun,r1,rsun,thetasun,theta2),ax(m1,m2,msun,r1,rsun,thetasun,theta2),\n",
    "          ay(m1,m2,msun,r1,rsun,thetasun,theta2),vx(m1,m2,msun,r1,rsun,thetasun,theta2,dt,v0x),\n",
    "          vy(m1,m2,msun,r1,rsun,thetasun,theta2,dt,v0y))\n",
    "    "
   ]
  },
  {
   "cell_type": "code",
   "execution_count": 220,
   "metadata": {},
   "outputs": [],
   "source": [
    "def initial_parameters():\n",
    "    p1_pos = [0,5]\n",
    "    p2_pos = [0,0]\n",
    "    m1 = 1\n",
    "    m2 = 1\n",
    "    msun = 1000000\n",
    "\n",
    "    \n",
    "    x12 = p1_pos[0]-p2_pos[0]\n",
    "    y12 = p1_pos[1]-p2_pos[1]\n",
    "    rsun_1 = np.sqrt((p1_pos[0]**2) + (p1_pos[1]**2))\n",
    "    r12 = np.sqrt((x12**2)+(y12**2)) \n",
    "\n",
    "    theta2 = np.arctan(x12/y12)\n",
    "    if p1_pos[0] == 0:\n",
    "        thetasun_1 = np.pi/2\n",
    "    else:\n",
    "        thetasun_1 = np.arctan(p1_pos[1]/p1_pos[0])\n",
    "    \n",
    "    \n",
    "    dt = 0.01\n",
    "    v0x = 0\n",
    "    v0y = 0.1\n",
    "    return(p1_pos,p2_pos,m1,m2,msun,r12,rsun_1,theta2,thetasun_1,dt,v0x,v0y)"
   ]
  },
  {
   "cell_type": "code",
   "execution_count": 221,
   "metadata": {},
   "outputs": [
    {
     "name": "stdout",
     "output_type": "stream",
     "text": [
      "[0, 5]\n",
      "[-2.4520980394647537e-26, 5.000999999599542]\n",
      "[-4.9041960789295075e-26, 5.001999999199084]\n"
     ]
    }
   ],
   "source": [
    "p1_pos,p2_pos,m1,m2,msun,r12,rsun_1,theta2,thetasun_1,dt,v0x,v0y = initial_parameters()\n",
    "print(p1_pos)\n",
    "def pos_update(p1_pos,m1,m2,msun,r12,rsun,theta2,thetasun,dt,v0x,v0y):\n",
    "    \n",
    "    sun_on_p1, p2_on_p1, net_f_x_1, net_f_y_1, ax_1, ay_1, vx_1, vy_1 = planet_1(m1,m2,msun,r12,rsun,theta2,thetasun,dt,v0x,v0y)\n",
    "    p1_pos[0] = p1_pos[0] + vx_1*dt + 0.5*ax_1*(dt**2)\n",
    "    p1_pos[1] = p1_pos[1] + vy_1*dt + 0.5*ay_1*(dt**2)\n",
    "    \n",
    "    #update velocity\n",
    "    v0x = v0x + ax_1*dt\n",
    "    v0y = v0y + ay_1*dt\n",
    "    \n",
    "    #update angle\n",
    "    theta2 = np.arctan(x12/y12)\n",
    "    if p1_pos[0] == 0:\n",
    "        thetasun_1 = np.pi/2\n",
    "    else:\n",
    "        thetasun_1 = np.arctan(p1_pos[1]/p1_pos[0])\n",
    "    \n",
    "#     print(thetasun_1)\n",
    "    \n",
    "    \n",
    "    \n",
    "\n",
    "pos_update(p1_pos,m1,m2,msun,r12,rsun_1,theta2,thetasun_1,dt,v0x,v0y)\n",
    "print(p1_pos)\n",
    "pos_update(p1_pos,m1,m2,msun,r12,rsun_1,theta2,thetasun_1,dt,v0x,v0y)\n",
    "print(p1_pos)"
   ]
  },
  {
   "cell_type": "code",
   "execution_count": 222,
   "metadata": {},
   "outputs": [
    {
     "data": {
      "image/png": "[encoded data removed]",
      "text/plain": [
       "<Figure size 432x288 with 1 Axes>"
      ]
     },
     "metadata": {
      "needs_background": "light"
     },
     "output_type": "display_data"
    }
   ],
   "source": [
    "p1_pos,p2_pos,m1,m2,msun,r12,rsun_1,theta2,thetasun_1,dt,v0x,v0y = initial_parameters()\n",
    "dt = 100000\n",
    "x = []\n",
    "for a in range(0,1000):\n",
    "    x.append(a)\n",
    "for i in range(1000):\n",
    "    plt.scatter(x[i],p1_pos[1])\n",
    "#     print(p1_pos[0],p1_pos[1])\n",
    "    pos_update(p1_pos,m1,m2,msun,r12,rsun_1,theta2,thetasun_1,dt,v0x,v0y)"
   ]
  },
  {
   "cell_type": "code",
   "execution_count": null,
   "metadata": {},
   "outputs": [],
   "source": []
  },
  {
   "cell_type": "code",
   "execution_count": null,
   "metadata": {},
   "outputs": [],
   "source": []
  }
 ],
 "metadata": {
  "kernelspec": {
   "display_name": "Python 3",
   "language": "python",
   "name": "python3"
  },
  "language_info": {
   "codemirror_mode": {
    "name": "ipython",
    "version": 3
   },
   "file_extension": ".py",
   "mimetype": "text/x-python",
   "name": "python",
   "nbconvert_exporter": "python",
   "pygments_lexer": "ipython3",
   "version": "3.6.9"
  }
 },
 "nbformat": 4,
 "nbformat_minor": 4
}
